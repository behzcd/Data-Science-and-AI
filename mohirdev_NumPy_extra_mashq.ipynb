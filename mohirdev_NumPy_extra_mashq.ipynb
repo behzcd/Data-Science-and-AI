{
  "cells": [
    {
      "cell_type": "markdown",
      "metadata": {
        "id": "view-in-github",
        "colab_type": "text"
      },
      "source": [
        "<a href=\"https://colab.research.google.com/github/bmukhammadaliev/Data-Science-and-AI/blob/main/mohirdev_NumPy_extra_mashq.ipynb\" target=\"_parent\"><img src=\"https://colab.research.google.com/assets/colab-badge.svg\" alt=\"Open In Colab\"/></a>"
      ]
    },
    {
      "cell_type": "markdown",
      "id": "bf79c78b",
      "metadata": {
        "id": "bf79c78b"
      },
      "source": [
        "# NumPy kutubxonasiga doir bilimlaringizni mustaxkamlash uchun mashqlar\n",
        "\n",
        "Hurmatli o'quvchi, bilimingizni yanada mustaxkamlashingiz va chuqurroq ko'nikmalarga ega bo'lishingiz uchun sizga topshiriqlar tayyorladik. Sizga yengillik yaratish maqsadida topshiriqni aynan qanday funksiyalar yordamida amalga oshirishingiz mumkin ekanini \n",
        " `💡Ishora` ko'rinishida yozdik!"
      ]
    },
    {
      "cell_type": "markdown",
      "id": "017db353",
      "metadata": {
        "id": "017db353"
      },
      "source": [
        "#### 1. NumPy kutubxonasini `np` nomi ostida yuklang va numpy kutubxonasini chop eting.\n",
        "\n",
        "versiya va konfiguratsiyani tekshiring.\n"
      ]
    },
    {
      "cell_type": "markdown",
      "source": [
        "`💡Ishora` import … as` and `np.__version__, np.show_config"
      ],
      "metadata": {
        "id": "e28779fe"
      },
      "id": "e28779fe"
    },
    {
      "cell_type": "code",
      "source": [
        "import numpy as np"
      ],
      "metadata": {
        "id": "_pCbn1ieI3u9"
      },
      "id": "_pCbn1ieI3u9",
      "execution_count": 1,
      "outputs": []
    },
    {
      "cell_type": "code",
      "source": [
        "np.version"
      ],
      "metadata": {
        "id": "sbbmySaH8PFH",
        "outputId": "7f293969-ff8e-4451-cb8a-4cbb2f190077",
        "colab": {
          "base_uri": "https://localhost:8080/"
        }
      },
      "id": "sbbmySaH8PFH",
      "execution_count": 4,
      "outputs": [
        {
          "output_type": "execute_result",
          "data": {
            "text/plain": [
              "<module 'numpy.version' from '/usr/local/lib/python3.8/dist-packages/numpy/version.py'>"
            ]
          },
          "metadata": {},
          "execution_count": 4
        }
      ]
    },
    {
      "cell_type": "code",
      "source": [
        "np.__config__.show"
      ],
      "metadata": {
        "id": "UF94BPo68PX-",
        "outputId": "c7bb35e1-d362-4117-98ea-0099696a3561",
        "colab": {
          "base_uri": "https://localhost:8080/"
        }
      },
      "id": "UF94BPo68PX-",
      "execution_count": 6,
      "outputs": [
        {
          "output_type": "execute_result",
          "data": {
            "text/plain": [
              "<function numpy.__config__.show()>"
            ]
          },
          "metadata": {},
          "execution_count": 6
        }
      ]
    },
    {
      "cell_type": "markdown",
      "id": "46950f4f",
      "metadata": {
        "id": "46950f4f"
      },
      "source": [
        "#### 2. Raqamli qiymatlar ro'yxatini bir o'lchovli NumPy massiviga aylantiring! "
      ]
    },
    {
      "cell_type": "markdown",
      "source": [
        "`💡Ishora` numpy.array"
      ],
      "metadata": {
        "id": "9b0e875f"
      },
      "id": "9b0e875f"
    },
    {
      "cell_type": "code",
      "source": [
        "data = [1,2,3,4,5,6,7,8]\n",
        "array = np.array(data)\n",
        "array"
      ],
      "metadata": {
        "id": "dgnzjeT3JCi4",
        "outputId": "dff7d0c9-f64b-4afc-d57d-f6f8de9b772e",
        "colab": {
          "base_uri": "https://localhost:8080/"
        }
      },
      "id": "dgnzjeT3JCi4",
      "execution_count": 7,
      "outputs": [
        {
          "output_type": "execute_result",
          "data": {
            "text/plain": [
              "array([1, 2, 3, 4, 5, 6, 7, 8])"
            ]
          },
          "metadata": {},
          "execution_count": 7
        }
      ]
    },
    {
      "cell_type": "markdown",
      "id": "e3c20b3d",
      "metadata": {
        "id": "e3c20b3d"
      },
      "source": [
        "#### 3. Qiymatlari noldan iborat bo'lgan to'qqiz o'lchovli massiv yarating.\n",
        "\n"
      ]
    },
    {
      "cell_type": "markdown",
      "source": [
        "`💡Ishora` np.zeros"
      ],
      "metadata": {
        "id": "96d0b63e"
      },
      "id": "96d0b63e"
    },
    {
      "cell_type": "code",
      "source": [
        "arr = np.zeros(shape = (9,5))\n",
        "arr"
      ],
      "metadata": {
        "id": "EkrKNbqF9A-9",
        "outputId": "30fc61c4-6277-4a60-f579-c681868bee2c",
        "colab": {
          "base_uri": "https://localhost:8080/"
        }
      },
      "id": "EkrKNbqF9A-9",
      "execution_count": 12,
      "outputs": [
        {
          "output_type": "execute_result",
          "data": {
            "text/plain": [
              "array([[0., 0., 0., 0., 0.],\n",
              "       [0., 0., 0., 0., 0.],\n",
              "       [0., 0., 0., 0., 0.],\n",
              "       [0., 0., 0., 0., 0.],\n",
              "       [0., 0., 0., 0., 0.],\n",
              "       [0., 0., 0., 0., 0.],\n",
              "       [0., 0., 0., 0., 0.],\n",
              "       [0., 0., 0., 0., 0.],\n",
              "       [0., 0., 0., 0., 0.]])"
            ]
          },
          "metadata": {},
          "execution_count": 12
        }
      ]
    },
    {
      "cell_type": "markdown",
      "id": "b15a879f",
      "metadata": {
        "id": "b15a879f"
      },
      "source": [
        "#### 4. Massiv yarating va uning xotira hajmini toping.\n",
        "\n"
      ]
    },
    {
      "cell_type": "markdown",
      "source": [
        "`💡Ishora` size, itemsize"
      ],
      "metadata": {
        "id": "32f9025c"
      },
      "id": "32f9025c"
    },
    {
      "cell_type": "code",
      "source": [
        "#arr.size\n",
        "arr.itemsize"
      ],
      "metadata": {
        "id": "MZxcJM_oJOTs",
        "outputId": "870ce7ee-01e8-4210-b9ca-611b9891801d",
        "colab": {
          "base_uri": "https://localhost:8080/"
        }
      },
      "id": "MZxcJM_oJOTs",
      "execution_count": 18,
      "outputs": [
        {
          "output_type": "execute_result",
          "data": {
            "text/plain": [
              "8"
            ]
          },
          "metadata": {},
          "execution_count": 18
        }
      ]
    },
    {
      "cell_type": "markdown",
      "id": "0a708990",
      "metadata": {
        "id": "0a708990"
      },
      "source": [
        "#### 5. NumPy kutubxonasidagi add funksiyasi hujjatlarini buyruq satridan qanday olishi mumkin? \n"
      ]
    },
    {
      "cell_type": "markdown",
      "source": [
        "`💡Ishora` np.info"
      ],
      "metadata": {
        "id": "d254eea5"
      },
      "id": "d254eea5"
    },
    {
      "cell_type": "code",
      "source": [
        "np.add?"
      ],
      "metadata": {
        "id": "m7nA_vYsJVUi"
      },
      "id": "m7nA_vYsJVUi",
      "execution_count": 20,
      "outputs": []
    },
    {
      "cell_type": "markdown",
      "id": "0b16cd77",
      "metadata": {
        "id": "0b16cd77"
      },
      "source": [
        "#### 6. Shunday vekor yaratingki u o'n ikki o'lchamda va qiymatlari noldan iborat bo'lsin, lekin vektorning oltinchi qiymati 1 ga teng bo'lsin.\n",
        "\n"
      ]
    },
    {
      "cell_type": "markdown",
      "source": [
        "`💡Ishora` array[12]"
      ],
      "metadata": {
        "id": "05223560"
      },
      "id": "05223560"
    },
    {
      "cell_type": "code",
      "source": [
        "arr1 = np.zeros(shape = 12)\n",
        "arr1[5] = 1\n",
        "arr1"
      ],
      "metadata": {
        "id": "UJfYDNQoJc7M",
        "outputId": "7b8c4c63-f476-472a-9ea8-3716c2699925",
        "colab": {
          "base_uri": "https://localhost:8080/"
        }
      },
      "id": "UJfYDNQoJc7M",
      "execution_count": 23,
      "outputs": [
        {
          "output_type": "execute_result",
          "data": {
            "text/plain": [
              "array([0., 0., 0., 0., 0., 1., 0., 0., 0., 0., 0., 0.])"
            ]
          },
          "metadata": {},
          "execution_count": 23
        }
      ]
    },
    {
      "cell_type": "markdown",
      "id": "782d4c77",
      "metadata": {
        "id": "782d4c77"
      },
      "source": [
        "#### 7. Qiymatlari 20 dan 59 gacha bo'lgan vektor yarating.\n",
        "\n"
      ]
    },
    {
      "cell_type": "markdown",
      "source": [
        "`💡Ishora` arange"
      ],
      "metadata": {
        "id": "7250d114"
      },
      "id": "7250d114"
    },
    {
      "cell_type": "code",
      "source": [
        "arr2 = np.arange(20,60,1)\n",
        "arr2"
      ],
      "metadata": {
        "id": "fSaWkGakJhwz",
        "outputId": "cc3a5670-1e79-481b-dd1b-10a11d67fe68",
        "colab": {
          "base_uri": "https://localhost:8080/"
        }
      },
      "id": "fSaWkGakJhwz",
      "execution_count": 24,
      "outputs": [
        {
          "output_type": "execute_result",
          "data": {
            "text/plain": [
              "array([20, 21, 22, 23, 24, 25, 26, 27, 28, 29, 30, 31, 32, 33, 34, 35, 36,\n",
              "       37, 38, 39, 40, 41, 42, 43, 44, 45, 46, 47, 48, 49, 50, 51, 52, 53,\n",
              "       54, 55, 56, 57, 58, 59])"
            ]
          },
          "metadata": {},
          "execution_count": 24
        }
      ]
    },
    {
      "cell_type": "markdown",
      "id": "48d48f01",
      "metadata": {
        "id": "48d48f01"
      },
      "source": [
        "#### 8. Vektor yarating va uni teskari o'zgartiring \n",
        "(birinchi element oxirgisi bo'lsin)\n",
        "\n"
      ]
    },
    {
      "cell_type": "markdown",
      "source": [
        "`💡Ishora` array[::-1]"
      ],
      "metadata": {
        "id": "fb702ae0"
      },
      "id": "fb702ae0"
    },
    {
      "cell_type": "code",
      "source": [
        "arr3 = arr2[::-1]\n",
        "arr3"
      ],
      "metadata": {
        "id": "GCP6vp_WJrON",
        "outputId": "57012bf6-ad38-40e3-b5c9-6fe57017fd6b",
        "colab": {
          "base_uri": "https://localhost:8080/"
        }
      },
      "id": "GCP6vp_WJrON",
      "execution_count": 26,
      "outputs": [
        {
          "output_type": "execute_result",
          "data": {
            "text/plain": [
              "array([59, 58, 57, 56, 55, 54, 53, 52, 51, 50, 49, 48, 47, 46, 45, 44, 43,\n",
              "       42, 41, 40, 39, 38, 37, 36, 35, 34, 33, 32, 31, 30, 29, 28, 27, 26,\n",
              "       25, 24, 23, 22, 21, 20])"
            ]
          },
          "metadata": {},
          "execution_count": 26
        }
      ]
    },
    {
      "cell_type": "markdown",
      "id": "4fa39382",
      "metadata": {
        "id": "4fa39382"
      },
      "source": [
        "#### 9. 12 dan 20 gacha bo'lgan qiymatlarga ega 3x3 matritsa yarating.\n"
      ]
    },
    {
      "cell_type": "markdown",
      "source": [
        "`💡Ishora` reshape"
      ],
      "metadata": {
        "id": "97e6be92"
      },
      "id": "97e6be92"
    },
    {
      "cell_type": "code",
      "source": [
        "arr4 = np.arange(12,21,1).reshape(3,3)\n",
        "arr4"
      ],
      "metadata": {
        "id": "Ve7gEGjuJxxw",
        "outputId": "9a9b76ba-b679-49e4-bd27-96bfbbec489b",
        "colab": {
          "base_uri": "https://localhost:8080/"
        }
      },
      "id": "Ve7gEGjuJxxw",
      "execution_count": 27,
      "outputs": [
        {
          "output_type": "execute_result",
          "data": {
            "text/plain": [
              "array([[12, 13, 14],\n",
              "       [15, 16, 17],\n",
              "       [18, 19, 20]])"
            ]
          },
          "metadata": {},
          "execution_count": 27
        }
      ]
    },
    {
      "cell_type": "markdown",
      "id": "da64551a",
      "metadata": {
        "id": "da64551a"
      },
      "source": [
        "#### 10. Quyidagi matritsadan foydalanib nolga teng bo'lmagan elementlarning indekslarini toping.\n",
        "[3, 7, 0, 0, 9, 0] \n",
        "\n",
        "\n",
        "\n"
      ]
    },
    {
      "cell_type": "markdown",
      "source": [
        "`💡Ishora` np.nonzero"
      ],
      "metadata": {
        "id": "322b2b68"
      },
      "id": "322b2b68"
    },
    {
      "cell_type": "code",
      "source": [
        "arr5 = np.array([3, 7, 0, 0, 9, 0])\n",
        "index = np.where(arr5 != 0)\n",
        "index\n"
      ],
      "metadata": {
        "id": "fNIuSyBaJ4OP",
        "outputId": "3cbc5a45-77e4-4d92-8a48-e1bf26ab37c5",
        "colab": {
          "base_uri": "https://localhost:8080/"
        }
      },
      "id": "fNIuSyBaJ4OP",
      "execution_count": 31,
      "outputs": [
        {
          "output_type": "execute_result",
          "data": {
            "text/plain": [
              "(array([0, 1, 4]),)"
            ]
          },
          "metadata": {},
          "execution_count": 31
        }
      ]
    },
    {
      "cell_type": "markdown",
      "id": "f89d9c9e",
      "metadata": {
        "id": "f89d9c9e"
      },
      "source": [
        "#### 11. Tasodifiy qiymatlar bilan 2x2x2 o'lchovidagi massiv yarating.\n"
      ]
    },
    {
      "cell_type": "markdown",
      "source": [
        "`💡Ishora` np.random.random"
      ],
      "metadata": {
        "id": "5717e1c1"
      },
      "id": "5717e1c1"
    },
    {
      "cell_type": "code",
      "source": [
        "arr6 = np.random.randn(2,2,2)\n",
        "arr6"
      ],
      "metadata": {
        "id": "bHloeqHOKuiX",
        "outputId": "f0355919-f0f7-481e-d99d-35ab613f589a",
        "colab": {
          "base_uri": "https://localhost:8080/"
        }
      },
      "id": "bHloeqHOKuiX",
      "execution_count": 32,
      "outputs": [
        {
          "output_type": "execute_result",
          "data": {
            "text/plain": [
              "array([[[-0.55342346, -0.51561029],\n",
              "        [-0.19950504, -1.50773689]],\n",
              "\n",
              "       [[ 1.84424872, -1.66505201],\n",
              "        [ 0.58801772, -0.13404605]]])"
            ]
          },
          "metadata": {},
          "execution_count": 32
        }
      ]
    },
    {
      "cell_type": "markdown",
      "id": "13c5928c",
      "metadata": {
        "id": "13c5928c"
      },
      "source": [
        "#### 12. Tasodifiy sonlardan tashkil topgan 9X9 o'lchamidagi massiv yarating. So'ng uning eng katta va eng kichik qiymatlarini toping\n"
      ]
    },
    {
      "cell_type": "markdown",
      "source": [
        "`💡Ishora` min, max"
      ],
      "metadata": {
        "id": "0ede4d26"
      },
      "id": "0ede4d26"
    },
    {
      "cell_type": "code",
      "source": [
        "arr7 = np.random.rand(9,9)\n",
        "arr7"
      ],
      "metadata": {
        "id": "OJiVa5K9LJyb",
        "outputId": "e6529f35-082d-41eb-f944-9f80af44e6cc",
        "colab": {
          "base_uri": "https://localhost:8080/"
        }
      },
      "id": "OJiVa5K9LJyb",
      "execution_count": 34,
      "outputs": [
        {
          "output_type": "execute_result",
          "data": {
            "text/plain": [
              "array([[0.59904   , 0.78473536, 0.00500027, 0.73382796, 0.30054297,\n",
              "        0.21592876, 0.08270757, 0.44110371, 0.1315027 ],\n",
              "       [0.3283138 , 0.78095255, 0.80123565, 0.13780594, 0.84812681,\n",
              "        0.78546908, 0.0764113 , 0.48052044, 0.31764305],\n",
              "       [0.01528752, 0.83813641, 0.95292332, 0.29523602, 0.9526025 ,\n",
              "        0.88777125, 0.03447392, 0.78651617, 0.85148848],\n",
              "       [0.25465795, 0.2302037 , 0.27731959, 0.91186664, 0.41916873,\n",
              "        0.78339263, 0.47709446, 0.47572597, 0.7906719 ],\n",
              "       [0.70596262, 0.42269308, 0.35248254, 0.45183477, 0.76289026,\n",
              "        0.89676558, 0.25978558, 0.66991943, 0.3905114 ],\n",
              "       [0.11890624, 0.17853211, 0.55304409, 0.49079712, 0.93386383,\n",
              "        0.63138477, 0.88150302, 0.05285052, 0.8857931 ],\n",
              "       [0.08104322, 0.63001038, 0.61784328, 0.09999241, 0.38634125,\n",
              "        0.9064926 , 0.5227618 , 0.94923518, 0.94120254],\n",
              "       [0.70991247, 0.70808001, 0.86734571, 0.76507438, 0.78182038,\n",
              "        0.92924366, 0.98637445, 0.76455321, 0.10957179],\n",
              "       [0.05333776, 0.21723556, 0.24183407, 0.91496614, 0.78956095,\n",
              "        0.28141117, 0.58864025, 0.45386732, 0.5765101 ]])"
            ]
          },
          "metadata": {},
          "execution_count": 34
        }
      ]
    },
    {
      "cell_type": "code",
      "source": [
        "min = np.min(arr7)\n",
        "max = np.max(arr7)\n",
        "min, max"
      ],
      "metadata": {
        "id": "UbuFAl-kC4bM",
        "outputId": "29cf3578-ec18-4015-f2bc-6c5d4f23b7cd",
        "colab": {
          "base_uri": "https://localhost:8080/"
        }
      },
      "id": "UbuFAl-kC4bM",
      "execution_count": 36,
      "outputs": [
        {
          "output_type": "execute_result",
          "data": {
            "text/plain": [
              "(0.005000272002582018, 0.9863744546554759)"
            ]
          },
          "metadata": {},
          "execution_count": 36
        }
      ]
    },
    {
      "cell_type": "markdown",
      "id": "3fa2e461",
      "metadata": {
        "id": "3fa2e461"
      },
      "source": [
        "#### 13. Quyidagi misol qanday natija beradi?\n",
        "\n",
        "\n",
        "```python\n",
        "0 * np.nan\n",
        "np.nan == np.nan\n",
        "np.inf > np.nan\n",
        "np.nan - np.nan\n",
        "np.nan in set([np.nan])\n",
        "0.7 == 7 * 0.1\n",
        "```\n"
      ]
    },
    {
      "cell_type": "markdown",
      "source": [
        "`💡Ishora` NaN = not a number, inf = infinity"
      ],
      "metadata": {
        "id": "c0048e59"
      },
      "id": "c0048e59"
    },
    {
      "cell_type": "code",
      "source": [
        "0 * np.nan\n",
        "np.nan == np.nan\n",
        "np.inf > np.nan\n",
        "np.nan - np.nan\n",
        "np.nan in set([np.nan])\n",
        "0.7 == 7 * 0.1"
      ],
      "metadata": {
        "id": "Thbqd_RCLf_e",
        "outputId": "e7310144-e2cc-41c2-e7d7-5bf2d5398497",
        "colab": {
          "base_uri": "https://localhost:8080/"
        }
      },
      "id": "Thbqd_RCLf_e",
      "execution_count": 37,
      "outputs": [
        {
          "output_type": "execute_result",
          "data": {
            "text/plain": [
              "False"
            ]
          },
          "metadata": {},
          "execution_count": 37
        }
      ]
    },
    {
      "cell_type": "markdown",
      "id": "73f7a549",
      "metadata": {
        "id": "73f7a549"
      },
      "source": [
        "#### 14. O'lchamlari 6x3 va 3x4 bo'lgan martitsa yarating, so'ng ularning  ko'paytmasini hisoblang.\n",
        "\n"
      ]
    },
    {
      "cell_type": "markdown",
      "source": [
        "`💡Ishora` np.dot` or `np.ones"
      ],
      "metadata": {
        "id": "351ff928"
      },
      "id": "351ff928"
    },
    {
      "cell_type": "code",
      "source": [
        "arr8 = np.random.randn(6,3)\n",
        "arr9 = np.random.randn(3,4)\n",
        "result = np.dot(arr8, arr9)\n",
        "result"
      ],
      "metadata": {
        "id": "e_5QUFcPLtVX",
        "outputId": "3467aa0c-a72b-44b3-d26f-3390f87de49d",
        "colab": {
          "base_uri": "https://localhost:8080/"
        }
      },
      "id": "e_5QUFcPLtVX",
      "execution_count": 45,
      "outputs": [
        {
          "output_type": "execute_result",
          "data": {
            "text/plain": [
              "array([[ 1.71131804,  0.21174627,  0.49124285,  2.63285276],\n",
              "       [-0.80256343, -0.02804735,  0.30434341,  2.58473474],\n",
              "       [-2.26300615, -0.44913451, -0.9602216 , -0.73630219],\n",
              "       [ 1.46018867, -0.06996425, -0.32814228,  2.77887679],\n",
              "       [-0.70890158,  0.43363438,  1.74890259,  2.70531995],\n",
              "       [ 1.54441798,  1.38232212,  4.33771591,  4.06760464]])"
            ]
          },
          "metadata": {},
          "execution_count": 45
        }
      ]
    },
    {
      "cell_type": "markdown",
      "id": "6d0c506f",
      "metadata": {
        "id": "6d0c506f"
      },
      "source": [
        "#### 15. Quyidagi misol qanday natija beradi?\n",
        "\n",
        "```python\n",
        "print(sum(range(5),-1))\n",
        "from numpy import *\n",
        "print(sum(range(5),-1))\n",
        "```"
      ]
    },
    {
      "cell_type": "code",
      "execution_count": 100,
      "id": "c1cc1143",
      "metadata": {
        "id": "c1cc1143",
        "outputId": "71bc1019-d6df-4f5c-fe38-5e71e359aa51",
        "colab": {
          "base_uri": "https://localhost:8080/"
        }
      },
      "outputs": [
        {
          "output_type": "stream",
          "name": "stdout",
          "text": [
            "10\n",
            "10\n"
          ]
        }
      ],
      "source": [
        "print(sum(range(5),-1))\n",
        "from numpy import *\n",
        "print(sum(range(5),-1))"
      ]
    },
    {
      "cell_type": "markdown",
      "id": "d6ad1a9f",
      "metadata": {
        "id": "d6ad1a9f"
      },
      "source": [
        "#### 16. NumPy kutubxonasi yordamida ikkita massivni solishtiring va ular usida quyidagi amallarni bajaring.\n",
        "\n",
        "```python\n",
        "Array a: [1 2]\n",
        "Array b: [4 5]\n",
        "a > b \n",
        "[False False]\n",
        "a >= b \n",
        "[False False] \n",
        "a < b \n",
        "[ True True] \n",
        "a <= b \n",
        "[ True True]\n",
        "```"
      ]
    },
    {
      "cell_type": "code",
      "execution_count": 47,
      "id": "7ba3c441",
      "metadata": {
        "id": "7ba3c441",
        "outputId": "c8dcf4b2-c28b-4f9a-f635-e83bd284d3f4",
        "colab": {
          "base_uri": "https://localhost:8080/"
        }
      },
      "outputs": [
        {
          "output_type": "execute_result",
          "data": {
            "text/plain": [
              "array([[-0.54939321, -0.55124517, -1.07059876, -0.06101325,  0.07469144],\n",
              "       [-0.47666632,  2.97318823, -0.31087166,  0.16696176,  0.4448241 ],\n",
              "       [ 3.40467209, -1.137044  , -0.30154106, -1.3632864 ,  0.0189918 ]])"
            ]
          },
          "metadata": {},
          "execution_count": 47
        }
      ],
      "source": [
        "arr10 = np.random.randn(3,5)\n",
        "arr10"
      ]
    },
    {
      "cell_type": "code",
      "source": [
        "arr11 = np.random.randn(3,5)\n",
        "arr11"
      ],
      "metadata": {
        "id": "p6z5hMokIcIy",
        "outputId": "756120f5-614f-49ea-da3f-006dd3847c11",
        "colab": {
          "base_uri": "https://localhost:8080/"
        }
      },
      "id": "p6z5hMokIcIy",
      "execution_count": 48,
      "outputs": [
        {
          "output_type": "execute_result",
          "data": {
            "text/plain": [
              "array([[-1.49600459,  1.13663112,  0.40219211, -0.02194723, -0.08288263],\n",
              "       [ 0.36332779, -0.40457078, -0.09931567,  1.15956882, -0.34388457],\n",
              "       [ 0.94075891,  0.33532153, -1.7869463 ,  0.85187849,  0.44636416]])"
            ]
          },
          "metadata": {},
          "execution_count": 48
        }
      ]
    },
    {
      "cell_type": "code",
      "source": [
        "arr10>arr11"
      ],
      "metadata": {
        "id": "vJN0zWZLIh7R",
        "outputId": "98600bd2-a457-4b51-998d-bd8a87c2e7b3",
        "colab": {
          "base_uri": "https://localhost:8080/"
        }
      },
      "id": "vJN0zWZLIh7R",
      "execution_count": 49,
      "outputs": [
        {
          "output_type": "execute_result",
          "data": {
            "text/plain": [
              "array([[ True, False, False, False,  True],\n",
              "       [False,  True, False, False,  True],\n",
              "       [ True, False,  True, False, False]])"
            ]
          },
          "metadata": {},
          "execution_count": 49
        }
      ]
    },
    {
      "cell_type": "code",
      "source": [
        "arr10<arr11"
      ],
      "metadata": {
        "id": "q5HRLGzMIqoA",
        "outputId": "20aac802-4400-4b69-b3c3-2d87a3cbe6a9",
        "colab": {
          "base_uri": "https://localhost:8080/"
        }
      },
      "id": "q5HRLGzMIqoA",
      "execution_count": 50,
      "outputs": [
        {
          "output_type": "execute_result",
          "data": {
            "text/plain": [
              "array([[False,  True,  True,  True, False],\n",
              "       [ True, False,  True,  True, False],\n",
              "       [False,  True, False,  True,  True]])"
            ]
          },
          "metadata": {},
          "execution_count": 50
        }
      ]
    },
    {
      "cell_type": "markdown",
      "id": "e3a7ba7f",
      "metadata": {
        "id": "e3a7ba7f"
      },
      "source": [
        "#### 17. Quyidagi misol qanday natija beradi?\n",
        "\n",
        "```python\n",
        "np.array(0) / np.array(0)\n",
        "np.array(0) // np.array(0)\n",
        "np.array([np.nan]).astype(int).astype(float)\n",
        "```"
      ]
    },
    {
      "cell_type": "code",
      "execution_count": 51,
      "id": "b874734e",
      "metadata": {
        "id": "b874734e",
        "outputId": "cf003d77-7eb2-4c2d-ea4f-76dd2086ff7a",
        "colab": {
          "base_uri": "https://localhost:8080/"
        }
      },
      "outputs": [
        {
          "output_type": "stream",
          "name": "stderr",
          "text": [
            "<ipython-input-51-cd809174da5d>:1: RuntimeWarning: invalid value encountered in true_divide\n",
            "  np.array(0) / np.array(0)\n",
            "<ipython-input-51-cd809174da5d>:2: RuntimeWarning: divide by zero encountered in floor_divide\n",
            "  np.array(0) // np.array(0)\n"
          ]
        },
        {
          "output_type": "execute_result",
          "data": {
            "text/plain": [
              "array([-9.22337204e+18])"
            ]
          },
          "metadata": {},
          "execution_count": 51
        }
      ],
      "source": [
        "np.array(0) / np.array(0)\n",
        "np.array(0) // np.array(0)\n",
        "np.array([np.nan]).astype(int).astype(float)"
      ]
    },
    {
      "cell_type": "markdown",
      "id": "6d17ab5d",
      "metadata": {
        "id": "6d17ab5d"
      },
      "source": [
        "#### 18. Ikkita massiv yarating va ular orasidagi umumiy qiymatlarni toping\n"
      ]
    },
    {
      "cell_type": "markdown",
      "source": [
        "`💡Ishora` np.intersect1d"
      ],
      "metadata": {
        "id": "4c4e2c5e"
      },
      "id": "4c4e2c5e"
    },
    {
      "cell_type": "code",
      "source": [
        "arr13 = np.array([1, 2, 3, 4, 5])\n",
        "arr14 = np.array([3, 4, 5, 6, 7])\n",
        "\n",
        "result = np.intersect1d(arr13, arr14)\n",
        "result"
      ],
      "metadata": {
        "id": "Dxz5P8WpMeAP",
        "outputId": "f9153ad8-d76b-48f9-9147-a3911c22edf1",
        "colab": {
          "base_uri": "https://localhost:8080/"
        }
      },
      "id": "Dxz5P8WpMeAP",
      "execution_count": 52,
      "outputs": [
        {
          "output_type": "execute_result",
          "data": {
            "text/plain": [
              "array([3, 4, 5])"
            ]
          },
          "metadata": {},
          "execution_count": 52
        }
      ]
    },
    {
      "cell_type": "markdown",
      "id": "8837119b",
      "metadata": {
        "id": "8837119b"
      },
      "source": [
        "#### 19. Tasodifiy sonlardan iborat bo'lgan massiv yarating, so'ng ularni quyida berilgan 4 xil usul yordamida musbat sonlarning butun qismini ajratib oling."
      ]
    },
    {
      "cell_type": "markdown",
      "source": [
        "`💡Ishora` %, np.floor, astype, np.trunc"
      ],
      "metadata": {
        "id": "2b05c544"
      },
      "id": "2b05c544"
    },
    {
      "cell_type": "code",
      "source": [
        "# Create an array of random floating point numbers\n",
        "arr = np.array([10, -87.24536, 56.7, -746, 0.674])\n",
        "print(\"Original array:\", arr)\n",
        "\n",
        "# Use the modulo operator to extract the positive part of the numbers\n",
        "positive_part = arr[arr>0] \n",
        "print(\"Positive part using modulo operator:\", positive_part, 'chala')\n",
        "\n",
        "# Use the numpy floor function to extract the positive part of the numbers\n",
        "positive_part = np.floor(arr[arr>0])\n",
        "print(\"Positive part using numpy floor:\", positive_part)\n",
        "\n",
        "# Use the astype method to change the data type to int and then extract the positive part of the numbers\n",
        "positive_part = arr[arr>0].astype(int)\n",
        "print(\"Positive part using astype:\", positive_part)\n",
        "\n",
        "# Use the numpy trunc function to extract the positive part of the numbers\n",
        "positive_part = np.trunc(arr[arr>0])\n",
        "print(\"Positive part using numpy trunc:\", positive_part)"
      ],
      "metadata": {
        "id": "jc6wN5WWMpS3",
        "outputId": "13296132-7763-44e0-9d90-0cdd2a2fc80d",
        "colab": {
          "base_uri": "https://localhost:8080/"
        }
      },
      "id": "jc6wN5WWMpS3",
      "execution_count": 201,
      "outputs": [
        {
          "output_type": "stream",
          "name": "stdout",
          "text": [
            "Original array: [ 1.000000e+01 -8.724536e+01  5.670000e+01 -7.460000e+02  6.740000e-01]\n",
            "Positive part using modulo operator: [10.    56.7    0.674] chala\n",
            "Positive part using numpy floor: [10. 56.  0.]\n",
            "Positive part using astype: [10 56  0]\n",
            "Positive part using numpy trunc: [10. 56.  0.]\n"
          ]
        }
      ]
    },
    {
      "cell_type": "markdown",
      "id": "ec788c9f",
      "metadata": {
        "id": "ec788c9f"
      },
      "source": [
        "#### 20. O'lchovlari 3x3 matritsa yarating, ularning qator qiymatlari 0 dan 2 gacha bo'lsin.\n",
        "\n"
      ]
    },
    {
      "cell_type": "markdown",
      "source": [
        "`💡Ishora` np.arange"
      ],
      "metadata": {
        "id": "c3980b2c"
      },
      "id": "c3980b2c"
    },
    {
      "cell_type": "code",
      "source": [
        "arr17 = np.arange(0, 2.25, 0.25).reshape(3,3)\n",
        "arr17"
      ],
      "metadata": {
        "id": "ycz3jw4bM0Xk",
        "outputId": "ca0cbb4b-d085-4db9-8093-35a19c2afe1a",
        "colab": {
          "base_uri": "https://localhost:8080/"
        }
      },
      "id": "ycz3jw4bM0Xk",
      "execution_count": 78,
      "outputs": [
        {
          "output_type": "execute_result",
          "data": {
            "text/plain": [
              "array([[0.  , 0.25, 0.5 ],\n",
              "       [0.75, 1.  , 1.25],\n",
              "       [1.5 , 1.75, 2.  ]])"
            ]
          },
          "metadata": {},
          "execution_count": 78
        }
      ]
    },
    {
      "cell_type": "code",
      "source": [
        "#alternatives:\n",
        "\n",
        "#1\n",
        "arr = np.random.randint(0, 3, size=(3,3))\n",
        "print(arr)\n",
        "\n",
        "#2\n",
        "arr1 = np.floor(np.random.rand(3,3) * 3)\n",
        "print(arr1)\n",
        "\n",
        "#3\n",
        "arr2 = np.linspace(0,2,9).reshape(3,3)\n",
        "print(arr2)"
      ],
      "metadata": {
        "id": "vnO85sW1fIex",
        "outputId": "b387a59f-84e4-49d8-b59a-9092612f3735",
        "colab": {
          "base_uri": "https://localhost:8080/"
        }
      },
      "id": "vnO85sW1fIex",
      "execution_count": 82,
      "outputs": [
        {
          "output_type": "stream",
          "name": "stdout",
          "text": [
            "[[2 1 1]\n",
            " [1 1 2]\n",
            " [1 0 2]]\n",
            "[[1. 0. 0.]\n",
            " [1. 1. 0.]\n",
            " [0. 2. 0.]]\n",
            "[[0.   0.25 0.5 ]\n",
            " [0.75 1.   1.25]\n",
            " [1.5  1.75 2.  ]]\n"
          ]
        }
      ]
    },
    {
      "cell_type": "markdown",
      "id": "391791e0",
      "metadata": {
        "id": "391791e0"
      },
      "source": [
        "#### 21. O'chamlari 10 bo'lgan tasodifiy vektor yarating va uni o'sish tartibida chiqaruvchi dastur tuzing.\n",
        "\n"
      ]
    },
    {
      "cell_type": "markdown",
      "source": [
        "`💡Ishora` sort"
      ],
      "metadata": {
        "id": "ada71c06"
      },
      "id": "ada71c06"
    },
    {
      "cell_type": "code",
      "source": [
        "arr19 = np.random.randn(10)\n",
        "sorted = np.sort(arr19)\n",
        "sorted"
      ],
      "metadata": {
        "id": "TPMqaavROM7g",
        "outputId": "61ce8c1b-8b2e-4cb7-87aa-39d3f3e0b8e7",
        "colab": {
          "base_uri": "https://localhost:8080/"
        }
      },
      "id": "TPMqaavROM7g",
      "execution_count": 84,
      "outputs": [
        {
          "output_type": "execute_result",
          "data": {
            "text/plain": [
              "array([-0.99139196, -0.47516276,  0.02678973,  0.40768823,  0.73568704,\n",
              "        0.74785064,  1.16590594,  1.33829761,  1.97349546,  2.06605409])"
            ]
          },
          "metadata": {},
          "execution_count": 84
        }
      ]
    },
    {
      "cell_type": "markdown",
      "id": "1e74d39e",
      "metadata": {
        "id": "1e74d39e"
      },
      "source": [
        "#### 22. A va B nomi bilan ikkita tasodifiy qiymatlardan iborat bo'lgan massiv yarating, so'ng ulardan qaysi biri katta yoki kichik ekanligini tekshiring."
      ]
    },
    {
      "cell_type": "markdown",
      "source": [
        "`💡Ishora` np.allclose, np.array_equal"
      ],
      "metadata": {
        "id": "eb0e066c"
      },
      "id": "eb0e066c"
    },
    {
      "cell_type": "code",
      "source": [
        "A = np.random.randn(9)\n",
        "B = np.random.randn(9)\n",
        "\n",
        "rslt = np.array_equal(A, B)\n",
        "print(rslt)\n",
        "\n",
        "rslt1 = np.allclose(A, B)\n",
        "print(rslt1)\n",
        "\n",
        "rslt2 = np.greater(A, B)\n",
        "print(rslt2)"
      ],
      "metadata": {
        "id": "xHNWNZnwOT1r",
        "outputId": "71d2a66e-666b-4530-daea-80944cc267eb",
        "colab": {
          "base_uri": "https://localhost:8080/"
        }
      },
      "id": "xHNWNZnwOT1r",
      "execution_count": 89,
      "outputs": [
        {
          "output_type": "stream",
          "name": "stdout",
          "text": [
            "False\n",
            "False\n",
            "[ True False  True  True False False  True False False]\n"
          ]
        }
      ]
    },
    {
      "cell_type": "markdown",
      "id": "78250c14",
      "metadata": {
        "id": "78250c14"
      },
      "source": [
        "#### 23. O'lchamlari 6x3 va 3x4 matritsa tuzing va ularni o'zaro ko'paytiring. \n"
      ]
    },
    {
      "cell_type": "markdown",
      "source": [
        "`💡Ishora` np.dot or np.ones"
      ],
      "metadata": {
        "id": "2e482afe"
      },
      "id": "2e482afe"
    },
    {
      "cell_type": "code",
      "source": [
        "x = np.ones(shape = (6,3))\n",
        "y = np.ones(shape = (3, 4))\n",
        "\n",
        "xy = np.dot(x, y)\n",
        "xy"
      ],
      "metadata": {
        "id": "ZRlMgdT9POgS",
        "outputId": "56afdc6f-abda-4ff4-f1a0-a4da89cad5bc",
        "colab": {
          "base_uri": "https://localhost:8080/"
        }
      },
      "id": "ZRlMgdT9POgS",
      "execution_count": 93,
      "outputs": [
        {
          "output_type": "execute_result",
          "data": {
            "text/plain": [
              "array([[3., 3., 3., 3.],\n",
              "       [3., 3., 3., 3.],\n",
              "       [3., 3., 3., 3.],\n",
              "       [3., 3., 3., 3.],\n",
              "       [3., 3., 3., 3.],\n",
              "       [3., 3., 3., 3.]])"
            ]
          },
          "metadata": {},
          "execution_count": 93
        }
      ]
    },
    {
      "cell_type": "markdown",
      "id": "51898680",
      "metadata": {
        "id": "51898680"
      },
      "source": [
        "#### 24. Tasodifiy sonlardan iborat bo'lgan o'lchami 5 ga teng vektor yarating, so'ng uning eng katta qiymatini 0 ga o'zgartiring.\n"
      ]
    },
    {
      "cell_type": "markdown",
      "source": [
        "`💡Ishora` argmax"
      ],
      "metadata": {
        "id": "ee92ccaf"
      },
      "id": "ee92ccaf"
    },
    {
      "cell_type": "code",
      "source": [
        "t = np.random.randn(6)\n",
        "print(t)\n",
        "t[np.argmax(t)] = 0\n",
        "t"
      ],
      "metadata": {
        "id": "v9DvyaTNPk_t",
        "outputId": "6afaff4c-b310-4f45-8226-250bedd375fd",
        "colab": {
          "base_uri": "https://localhost:8080/"
        }
      },
      "id": "v9DvyaTNPk_t",
      "execution_count": 98,
      "outputs": [
        {
          "output_type": "stream",
          "name": "stdout",
          "text": [
            "[-1.56143993  0.61102444  0.2811642  -0.18952171  0.77419905 -1.72775548]\n"
          ]
        },
        {
          "output_type": "execute_result",
          "data": {
            "text/plain": [
              "array([-1.56143993,  0.61102444,  0.2811642 , -0.18952171,  0.        ,\n",
              "       -1.72775548])"
            ]
          },
          "metadata": {},
          "execution_count": 98
        }
      ]
    },
    {
      "cell_type": "markdown",
      "id": "89e78048",
      "metadata": {
        "id": "89e78048"
      },
      "source": [
        "#### 25. Quyidagi dastur qanday natija beradi?\n",
        "```python\n",
        "print(sum(range(5),-1))\n",
        "from numpy import *\n",
        "print(sum(range(5),-1))\n",
        "```"
      ]
    },
    {
      "cell_type": "code",
      "execution_count": 99,
      "id": "8026c969",
      "metadata": {
        "id": "8026c969",
        "outputId": "19499c0a-db7a-45cb-8fee-0b9e8782b332",
        "colab": {
          "base_uri": "https://localhost:8080/"
        }
      },
      "outputs": [
        {
          "output_type": "stream",
          "name": "stdout",
          "text": [
            "10\n",
            "10\n"
          ]
        }
      ],
      "source": [
        "print(sum(range(5),-1))\n",
        "from numpy import *\n",
        "print(sum(range(5),-1))"
      ]
    },
    {
      "cell_type": "markdown",
      "id": "ebd10810",
      "metadata": {
        "id": "ebd10810"
      },
      "source": [
        "#### 26. NumPy kutubxonasi yordamida ikkita massivni solishtiruvchi dastur tuzing.\n",
        "```python\n",
        "Array a: [1 2]\n",
        "Array b: [4 5]\n",
        "a > b \n",
        "[False False]\n",
        "a >= b \n",
        "[False False] \n",
        "a < b \n",
        "[ True True] \n",
        "a <= b \n",
        "[ True True]\n",
        "```"
      ]
    },
    {
      "cell_type": "code",
      "execution_count": 103,
      "id": "90fed5c6",
      "metadata": {
        "id": "90fed5c6",
        "outputId": "5b4fd453-05ce-4987-8027-5c584a233b6c",
        "colab": {
          "base_uri": "https://localhost:8080/"
        }
      },
      "outputs": [
        {
          "output_type": "stream",
          "name": "stdout",
          "text": [
            "Tepadagi savol yana qaytarilgan\n"
          ]
        }
      ],
      "source": [
        "print('Tepadagi savol yana qaytarilgan')"
      ]
    },
    {
      "cell_type": "markdown",
      "id": "f1ae2c2d",
      "metadata": {
        "id": "f1ae2c2d"
      },
      "source": [
        "#### 27. Ikkita umumiy qiymatlari mavjud bo'lgan massiv yarating, so'ng ulardagi umumiy qiymatlarni aniqlovchi dastur tuzing.\n"
      ]
    },
    {
      "cell_type": "markdown",
      "source": [
        "`💡Ishora` np.intersect1d"
      ],
      "metadata": {
        "id": "097482ad"
      },
      "id": "097482ad"
    },
    {
      "cell_type": "code",
      "source": [
        "print('Tepadagi savol yana qaytarilgan')"
      ],
      "metadata": {
        "id": "M3QZ2rC3Roij",
        "outputId": "dbd13d34-5569-42d8-8345-1c828a8bccd2",
        "colab": {
          "base_uri": "https://localhost:8080/"
        }
      },
      "id": "M3QZ2rC3Roij",
      "execution_count": 104,
      "outputs": [
        {
          "output_type": "stream",
          "name": "stdout",
          "text": [
            "Tepadagi savol yana qaytarilgan\n"
          ]
        }
      ]
    },
    {
      "cell_type": "markdown",
      "id": "129c342d",
      "metadata": {
        "id": "129c342d"
      },
      "source": [
        "#### 28. NumPy kutubxonasi yordamida kecha, bugun va ertangi kun sanalarini aniqlang.\n"
      ]
    },
    {
      "cell_type": "markdown",
      "source": [
        "`💡Ishora` np.datetime64, np.timedelta64"
      ],
      "metadata": {
        "id": "0fd2f947"
      },
      "id": "0fd2f947"
    },
    {
      "cell_type": "code",
      "source": [
        "hozir = np.datetime64('now')\n",
        "print('Hozir:', hozir)\n",
        "\n",
        "bugun = np.datetime64('today', 'D')\n",
        "print('Bugun:', bugun)\n",
        "\n",
        "ertaga = bugun + np.timedelta64(1, 'D')\n",
        "print('Ertaga:', ertaga)\n",
        "\n",
        "kecha = bugun - np.timedelta64(1, 'D')\n",
        "print('Kecha:', kecha)"
      ],
      "metadata": {
        "id": "dlljRGxkSitd",
        "outputId": "96091417-009d-4b51-8fc0-cb749e795fbb",
        "colab": {
          "base_uri": "https://localhost:8080/"
        }
      },
      "id": "dlljRGxkSitd",
      "execution_count": 122,
      "outputs": [
        {
          "output_type": "stream",
          "name": "stdout",
          "text": [
            "Hozir: 2023-01-28T23:34:31\n",
            "Bugun: 2023-01-28\n",
            "Ertaga: 2023-01-29\n",
            "Kecha: 2023-01-27\n"
          ]
        }
      ]
    },
    {
      "cell_type": "markdown",
      "id": "42f8b2f9",
      "metadata": {
        "id": "42f8b2f9"
      },
      "source": [
        "#### 29. 2016 yil yanvar oyiga to'g'ri keladigan barcha sanalarni NumPy kutubxonasi yordamida aniqlang.\n"
      ]
    },
    {
      "cell_type": "markdown",
      "source": [
        "`💡Ishora` np.arange(dtype=datetime64['D'])"
      ],
      "metadata": {
        "id": "SU1BWcA8Sw2M"
      },
      "id": "SU1BWcA8Sw2M"
    },
    {
      "cell_type": "code",
      "execution_count": 130,
      "id": "5ad086b0",
      "metadata": {
        "id": "5ad086b0",
        "outputId": "6966084b-a7a4-4e4b-f0f6-823fdc2a822e",
        "colab": {
          "base_uri": "https://localhost:8080/"
        }
      },
      "outputs": [
        {
          "output_type": "execute_result",
          "data": {
            "text/plain": [
              "array(['2016-01-01', '2016-01-02', '2016-01-03', '2016-01-04',\n",
              "       '2016-01-05', '2016-01-06', '2016-01-07', '2016-01-08',\n",
              "       '2016-01-09', '2016-01-10', '2016-01-11', '2016-01-12',\n",
              "       '2016-01-13', '2016-01-14', '2016-01-15', '2016-01-16',\n",
              "       '2016-01-17', '2016-01-18', '2016-01-19', '2016-01-20',\n",
              "       '2016-01-21', '2016-01-22', '2016-01-23', '2016-01-24',\n",
              "       '2016-01-25', '2016-01-26', '2016-01-27', '2016-01-28',\n",
              "       '2016-01-29', '2016-01-30', '2016-01-31'], dtype='datetime64[D]')"
            ]
          },
          "metadata": {},
          "execution_count": 130
        }
      ],
      "source": [
        "oy2016 = np.arange('2016-01', '2016-02', dtype='datetime64[D]')\n",
        "oy2016"
      ]
    },
    {
      "cell_type": "markdown",
      "id": "486df8ea",
      "metadata": {
        "id": "486df8ea"
      },
      "source": [
        "#### 30. 4 xil usul yordamida musbat sonlarning tasodifiy massivining butun son qismini ajratib oling.\n"
      ]
    },
    {
      "cell_type": "markdown",
      "source": [
        "`💡Ishora` %, np.floor, astype, np.trunc`"
      ],
      "metadata": {
        "id": "h4QM3bp9TDhb"
      },
      "id": "h4QM3bp9TDhb"
    },
    {
      "cell_type": "code",
      "execution_count": 131,
      "id": "2680c1ca",
      "metadata": {
        "id": "2680c1ca",
        "outputId": "b486fae9-d990-4570-80a1-07c8b2245e16",
        "colab": {
          "base_uri": "https://localhost:8080/"
        }
      },
      "outputs": [
        {
          "output_type": "stream",
          "name": "stdout",
          "text": [
            "Tepadagi savol yana qaytarilgan\n"
          ]
        }
      ],
      "source": [
        "print('Tepadagi savol yana qaytarilgan')"
      ]
    },
    {
      "cell_type": "markdown",
      "id": "649e89f9",
      "metadata": {
        "id": "649e89f9"
      },
      "source": [
        "#### 31. Qator qiymatlari 0 dan 2 gacha bo'lgan 3x3 matritsa yarating.\n"
      ]
    },
    {
      "cell_type": "markdown",
      "source": [
        "`💡Ishora` np.arange"
      ],
      "metadata": {
        "id": "e832212f"
      },
      "id": "e832212f"
    },
    {
      "cell_type": "code",
      "source": [
        "print('Tepadagi savol yana qaytarilgan')"
      ],
      "metadata": {
        "id": "YKNJEcLrTg3d",
        "outputId": "a5a7164d-347b-4622-e86a-4fdd215f5082",
        "colab": {
          "base_uri": "https://localhost:8080/"
        }
      },
      "id": "YKNJEcLrTg3d",
      "execution_count": 132,
      "outputs": [
        {
          "output_type": "stream",
          "name": "stdout",
          "text": [
            "Tepadagi savol yana qaytarilgan\n"
          ]
        }
      ]
    },
    {
      "cell_type": "markdown",
      "id": "2d07be1c",
      "metadata": {
        "id": "2d07be1c"
      },
      "source": [
        "#### 32. Tasodifiy qiymatlardan tashkil topgan 10 o'lchovli vektor yarating, so'ng uning qiymatlarini o'sish tartibida yozing.\n"
      ]
    },
    {
      "cell_type": "markdown",
      "source": [
        "`💡Ishora` sort"
      ],
      "metadata": {
        "id": "046a541a"
      },
      "id": "046a541a"
    },
    {
      "cell_type": "code",
      "source": [
        "print('Tepadagi savol yana qaytarilgan')"
      ],
      "metadata": {
        "id": "zOPE5f20U95l",
        "outputId": "d6ec2b47-e9a0-436d-b2b2-21e66d6ec564",
        "colab": {
          "base_uri": "https://localhost:8080/"
        }
      },
      "id": "zOPE5f20U95l",
      "execution_count": 133,
      "outputs": [
        {
          "output_type": "stream",
          "name": "stdout",
          "text": [
            "Tepadagi savol yana qaytarilgan\n"
          ]
        }
      ]
    },
    {
      "cell_type": "markdown",
      "id": "6415f02e",
      "metadata": {
        "id": "6415f02e"
      },
      "source": [
        "#### 33. Ixtiyoriy kichik massivlar yarating, ular yeg'indisini np.sum funksiyasidanda tezroq hisoblovchi dastur tuzing.\n"
      ]
    },
    {
      "cell_type": "markdown",
      "source": [
        "`💡Ishora` np.add.reduce"
      ],
      "metadata": {
        "id": "129e785f"
      },
      "id": "129e785f"
    },
    {
      "cell_type": "code",
      "source": [
        "nums = np.random.rand(5, 10)\n",
        "sum = np.add.reduce(nums)\n",
        "print(sum)\n",
        "sum1 = np.sum(nums, axis = 0)\n",
        "print(sum1)"
      ],
      "metadata": {
        "id": "M0Xv2bB9VYQZ",
        "outputId": "f83002c9-5f4a-48a7-856e-a498482e4d56",
        "colab": {
          "base_uri": "https://localhost:8080/"
        }
      },
      "id": "M0Xv2bB9VYQZ",
      "execution_count": 151,
      "outputs": [
        {
          "output_type": "stream",
          "name": "stdout",
          "text": [
            "[1.56893791 1.77013762 2.8155082  2.61259047 2.15302931 2.87923007\n",
            " 1.96430926 2.70594874 1.45795975 2.76140836]\n",
            "[1.56893791 1.77013762 2.8155082  2.61259047 2.15302931 2.87923007\n",
            " 1.96430926 2.70594874 1.45795975 2.76140836]\n"
          ]
        }
      ]
    },
    {
      "cell_type": "markdown",
      "id": "b7109c9f",
      "metadata": {
        "id": "b7109c9f"
      },
      "source": [
        "#### 34. Tasodifiy qiymatlardan tashkil topgan 5 o'lchovli vektor yarating, so'ng uning eng katta qiymatini 0 raqamiga almashtiring.\n"
      ]
    },
    {
      "cell_type": "markdown",
      "source": [
        "`💡Ishora` argmax"
      ],
      "metadata": {
        "id": "89b75e6d"
      },
      "id": "89b75e6d"
    },
    {
      "cell_type": "code",
      "source": [
        "print('Tepadagi savol yana qaytarilgan')"
      ],
      "metadata": {
        "id": "rRz1oOQfXdg6",
        "outputId": "d224ee95-1caa-41ea-8655-7d49ae838a81",
        "colab": {
          "base_uri": "https://localhost:8080/"
        }
      },
      "id": "rRz1oOQfXdg6",
      "execution_count": 152,
      "outputs": [
        {
          "output_type": "stream",
          "name": "stdout",
          "text": [
            "Tepadagi savol yana qaytarilgan\n"
          ]
        }
      ]
    },
    {
      "cell_type": "markdown",
      "id": "58be9dd4",
      "metadata": {
        "id": "58be9dd4"
      },
      "source": [
        "#### 35. [1, 2, 3, 4, 5] vektor berilgan, har bir qiymat orasiga ketma-ket 3 ta nol raqamini yozuvchi dastur tuzing.\n"
      ]
    },
    {
      "cell_type": "markdown",
      "source": [
        "`💡Ishora` array[::4]"
      ],
      "metadata": {
        "id": "9cf9e134"
      },
      "id": "9cf9e134"
    },
    {
      "cell_type": "code",
      "source": [
        "array = np.array([1, 2, 3, 4, 5])\n",
        "result = np.repeat(array, 4)\n",
        "result[1::4] = 0\n",
        "print(result)\n",
        "print('chala')"
      ],
      "metadata": {
        "id": "04IuJ2jaZeYu",
        "outputId": "de9f2bde-2383-4aa2-b0ef-2387fba8b093",
        "colab": {
          "base_uri": "https://localhost:8080/"
        }
      },
      "id": "04IuJ2jaZeYu",
      "execution_count": 200,
      "outputs": [
        {
          "output_type": "stream",
          "name": "stdout",
          "text": [
            "[1 0 1 1 2 0 2 2 3 0 3 3 4 0 4 4 5 0 5 5]\n",
            "chala\n"
          ]
        }
      ]
    },
    {
      "cell_type": "markdown",
      "id": "781fa236",
      "metadata": {
        "id": "781fa236"
      },
      "source": [
        "#### 36. Quyidagi a massiv berilgan, a = [1,2,3,4,5,6,7,8,9,10,11,12,13,14] undan foydalangan holda siz quyidagi b massivni yarata olasizmi, b = [[1,2,3,4], [2,3,4,5], [3,4,5,6], ..., [11,12,13,14]]? \n"
      ]
    },
    {
      "cell_type": "markdown",
      "source": [
        "`💡Ishora` stride_tricks.as_strided"
      ],
      "metadata": {
        "id": "82e3d17e"
      },
      "id": "82e3d17e"
    },
    {
      "cell_type": "code",
      "source": [
        "a = np.array([1,2,3,4,5,6,7,8,9,10,11,12,13,14])\n",
        "shape = (11,4)\n",
        "new = a.strides + a.strides\n",
        "b = stride_tricks.as_strided(a, shape, new)\n",
        "b"
      ],
      "metadata": {
        "id": "S1H6ivCua3NZ",
        "outputId": "66941859-164e-4082-badc-0d064759be8a",
        "colab": {
          "base_uri": "https://localhost:8080/"
        }
      },
      "id": "S1H6ivCua3NZ",
      "execution_count": 198,
      "outputs": [
        {
          "output_type": "execute_result",
          "data": {
            "text/plain": [
              "array([[ 1,  2,  3,  4],\n",
              "       [ 2,  3,  4,  5],\n",
              "       [ 3,  4,  5,  6],\n",
              "       [ 4,  5,  6,  7],\n",
              "       [ 5,  6,  7,  8],\n",
              "       [ 6,  7,  8,  9],\n",
              "       [ 7,  8,  9, 10],\n",
              "       [ 8,  9, 10, 11],\n",
              "       [ 9, 10, 11, 12],\n",
              "       [10, 11, 12, 13],\n",
              "       [11, 12, 13, 14]])"
            ]
          },
          "metadata": {},
          "execution_count": 198
        }
      ]
    },
    {
      "cell_type": "markdown",
      "id": "7d8dc135",
      "metadata": {
        "id": "7d8dc135"
      },
      "source": [
        "#### 37. Ixtiyoriy sonlardan tashkil topgan massiv yarating, unga o'xshash qiymatlar kiriting. So'ng, o'xshash qiymatlarni topuvchi dastur tuzing.\n"
      ]
    },
    {
      "cell_type": "markdown",
      "source": [
        "`💡Ishora` np.bincount, argmax"
      ],
      "metadata": {
        "id": "81844e99"
      },
      "id": "81844e99"
    },
    {
      "cell_type": "code",
      "source": [
        "print('Bilmadim')"
      ],
      "metadata": {
        "id": "SiRaNwxjbaQN",
        "outputId": "aefc98c1-37ae-4e30-b7f1-ce662fb4571b",
        "colab": {
          "base_uri": "https://localhost:8080/"
        }
      },
      "id": "SiRaNwxjbaQN",
      "execution_count": 203,
      "outputs": [
        {
          "output_type": "stream",
          "name": "stdout",
          "text": [
            "Bilmadim\n"
          ]
        }
      ]
    },
    {
      "cell_type": "markdown",
      "source": [
        "#### BONUS!\n",
        "\n",
        "`💡O'zingiz javob berishni istagan savolni kiriting va unga javob bering!`"
      ],
      "metadata": {
        "id": "URzxwwODb0m_"
      },
      "id": "URzxwwODb0m_"
    },
    {
      "cell_type": "code",
      "source": [
        "print('Afsuski yoq')"
      ],
      "metadata": {
        "id": "9xpR0GVrbzuk",
        "outputId": "baf63621-9285-4dee-c557-1891ff0d0870",
        "colab": {
          "base_uri": "https://localhost:8080/"
        }
      },
      "id": "9xpR0GVrbzuk",
      "execution_count": 204,
      "outputs": [
        {
          "output_type": "stream",
          "name": "stdout",
          "text": [
            "Afsuski yoq\n"
          ]
        }
      ]
    }
  ],
  "metadata": {
    "hide_input": false,
    "kernelspec": {
      "display_name": "Python 3",
      "language": "python",
      "name": "python3"
    },
    "language_info": {
      "codemirror_mode": {
        "name": "ipython",
        "version": 3
      },
      "file_extension": ".py",
      "mimetype": "text/x-python",
      "name": "python",
      "nbconvert_exporter": "python",
      "pygments_lexer": "ipython3",
      "version": "3.8.8"
    },
    "toc": {
      "base_numbering": 1,
      "nav_menu": {},
      "number_sections": true,
      "sideBar": true,
      "skip_h1_title": false,
      "title_cell": "Table of Contents",
      "title_sidebar": "Contents",
      "toc_cell": false,
      "toc_position": {},
      "toc_section_display": true,
      "toc_window_display": false
    },
    "varInspector": {
      "cols": {
        "lenName": 16,
        "lenType": 16,
        "lenVar": 40
      },
      "kernels_config": {
        "python": {
          "delete_cmd_postfix": "",
          "delete_cmd_prefix": "del ",
          "library": "var_list.py",
          "varRefreshCmd": "print(var_dic_list())"
        },
        "r": {
          "delete_cmd_postfix": ") ",
          "delete_cmd_prefix": "rm(",
          "library": "var_list.r",
          "varRefreshCmd": "cat(var_dic_list()) "
        }
      },
      "types_to_exclude": [
        "module",
        "function",
        "builtin_function_or_method",
        "instance",
        "_Feature"
      ],
      "window_display": false
    },
    "colab": {
      "provenance": [],
      "include_colab_link": true
    }
  },
  "nbformat": 4,
  "nbformat_minor": 5
}