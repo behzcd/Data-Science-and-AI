{
  "nbformat": 4,
  "nbformat_minor": 0,
  "metadata": {
    "colab": {
      "provenance": [],
      "include_colab_link": true
    },
    "kernelspec": {
      "name": "python3",
      "display_name": "Python 3"
    },
    "language_info": {
      "name": "python"
    }
  },
  "cells": [
    {
      "cell_type": "markdown",
      "metadata": {
        "id": "view-in-github",
        "colab_type": "text"
      },
      "source": [
        "<a href=\"https://colab.research.google.com/github/bmukhammadaliev/Data-Science-and-AI/blob/main/Pandas_Mustahkamlash_mashq.ipynb\" target=\"_parent\"><img src=\"https://colab.research.google.com/assets/colab-badge.svg\" alt=\"Open In Colab\"/></a>"
      ]
    },
    {
      "cell_type": "markdown",
      "source": [
        "# Pandas kutubxonasiga doir bilimlaringizni mustaxkamlash uchun mashqlar!\n",
        "\n",
        "Hurmatli o'quvchi, bilimingizni yanada mustaxkamlashingiz va chuqurroq ko'nikmalarga ega bo'lishingiz uchun sizga topshiriqlar tayyorladik. Sizga yengillik yaratish maqsadida topshiriqlarni `📌Mavzulashtirdik`"
      ],
      "metadata": {
        "id": "k-wg58lT3IuO"
      }
    },
    {
      "cell_type": "markdown",
      "source": [
        "## `📌Pandas kutubxonasini yuklash`\n",
        "\n",
        "**1.** Pandas kutubxonasini `pd` nomi ostida yuklang va pandas kutubxonasini chop eting."
      ],
      "metadata": {
        "id": "loNFiQaN5ON7"
      }
    },
    {
      "cell_type": "code",
      "execution_count": 1,
      "metadata": {
        "id": "KlhL3wXO2KwW"
      },
      "outputs": [],
      "source": [
        "import pandas as pd"
      ]
    },
    {
      "cell_type": "markdown",
      "source": [
        "**2.** Versiya va konfiguratsiyani tekshiring."
      ],
      "metadata": {
        "id": "7sdF8P3i6Mjn"
      }
    },
    {
      "cell_type": "code",
      "source": [
        "print(pd.__version__)"
      ],
      "metadata": {
        "id": "G_HPA6Uz6XKH",
        "outputId": "04a907de-40b4-4b03-8319-3dfa6f08e2c0",
        "colab": {
          "base_uri": "https://localhost:8080/"
        }
      },
      "execution_count": 11,
      "outputs": [
        {
          "output_type": "stream",
          "name": "stdout",
          "text": [
            "1.3.5\n"
          ]
        }
      ]
    },
    {
      "cell_type": "markdown",
      "source": [
        "**3.** Pandas kutubxonasida mavjud bo'lgan barcha versiya ma'lumotlarini chop eting."
      ],
      "metadata": {
        "id": "KUw4Ju9H6jeA"
      }
    },
    {
      "cell_type": "code",
      "source": [],
      "metadata": {
        "id": "zSxaU78l6y5R"
      },
      "execution_count": null,
      "outputs": []
    },
    {
      "cell_type": "markdown",
      "source": [
        "## `📌DataFrame: Asoslar`\n",
        "\n",
        "DataFrames-da ma'lumotlarni tanlash(selecting), saralash(sorting), qo'shish(adding) va yig'ish(aggregating) uchun bir nechta asosiy mashqlar.\n",
        "\n",
        "💡Eslatma: NumPy kutubxonasini import qilishni unutmang:\n",
        "``` python\n",
        "import numpy as np\n",
        "```\n",
        "\n",
        "Quyidagi Python lug'ati(dictionary) `data` va Python ro'yxati(list) `labels` ni ko'rib chiqing:\n",
        "\n",
        "\n",
        "``` python\n",
        "data = {'animal': ['cat', 'cat', 'snake', 'dog', 'dog', 'cat', 'snake', 'cat', 'dog', 'dog'],\n",
        "        'age': [2.5, 3, 0.5, np.nan, 5, 2, 4.5, np.nan, 7, 3],\n",
        "        'visits': [1, 3, 2, 3, 2, 3, 1, 1, 2, 1],\n",
        "        'priority': ['yes', 'yes', 'no', 'yes', 'no', 'no', 'no', 'yes', 'no', 'no']}\n",
        "\n",
        "labels = ['a', 'b', 'c', 'd', 'e', 'f', 'g', 'h', 'i', 'j']\n",
        "```\n",
        "\n"
      ],
      "metadata": {
        "id": "FE1WM5tv7IAW"
      }
    },
    {
      "cell_type": "code",
      "source": [
        "import numpy as np"
      ],
      "metadata": {
        "id": "fSbVfMTprBRo"
      },
      "execution_count": 12,
      "outputs": []
    },
    {
      "cell_type": "markdown",
      "source": [
        "**4.** Ushbu `lug'at`(dictionary) yordamida `data` dan `labels` indeksiga ega DataFrame yarating."
      ],
      "metadata": {
        "id": "I-sQqjsEWqH8"
      }
    },
    {
      "cell_type": "code",
      "source": [
        "import numpy as np\n",
        "\n",
        "data = {'animal': ['cat', 'cat', 'snake', 'dog', 'dog', 'cat', 'snake', 'cat', 'dog', 'dog'],\n",
        "        'age': [2.5, 3, 0.5, np.nan, 5, 2, 4.5, np.nan, 7, 3],\n",
        "        'visits': [1, 3, 2, 3, 2, 3, 1, 1, 2, 1],\n",
        "        'priority': ['yes', 'yes', 'no', 'yes', 'no', 'no', 'no', 'yes', 'no', 'no']}\n",
        "\n",
        "labels = ['a', 'b', 'c', 'd', 'e', 'f', 'g', 'h', 'i', 'j']\n",
        "\n",
        "df = pd.DataFrame(data, index = labels)\n",
        "df"
      ],
      "metadata": {
        "id": "qAyjNW-TYj_O",
        "outputId": "a2a906fd-fa32-4ceb-b938-fc91c71bb2b1",
        "colab": {
          "base_uri": "https://localhost:8080/",
          "height": 362
        }
      },
      "execution_count": 15,
      "outputs": [
        {
          "output_type": "execute_result",
          "data": {
            "text/plain": [
              "  animal  age  visits priority\n",
              "a    cat  2.5       1      yes\n",
              "b    cat  3.0       3      yes\n",
              "c  snake  0.5       2       no\n",
              "d    dog  NaN       3      yes\n",
              "e    dog  5.0       2       no\n",
              "f    cat  2.0       3       no\n",
              "g  snake  4.5       1       no\n",
              "h    cat  NaN       1      yes\n",
              "i    dog  7.0       2       no\n",
              "j    dog  3.0       1       no"
            ],
            "text/html": [
              "\n",
              "  <div id=\"df-3045b4a6-5c54-499b-8f11-e374fb6a2dec\">\n",
              "    <div class=\"colab-df-container\">\n",
              "      <div>\n",
              "<style scoped>\n",
              "    .dataframe tbody tr th:only-of-type {\n",
              "        vertical-align: middle;\n",
              "    }\n",
              "\n",
              "    .dataframe tbody tr th {\n",
              "        vertical-align: top;\n",
              "    }\n",
              "\n",
              "    .dataframe thead th {\n",
              "        text-align: right;\n",
              "    }\n",
              "</style>\n",
              "<table border=\"1\" class=\"dataframe\">\n",
              "  <thead>\n",
              "    <tr style=\"text-align: right;\">\n",
              "      <th></th>\n",
              "      <th>animal</th>\n",
              "      <th>age</th>\n",
              "      <th>visits</th>\n",
              "      <th>priority</th>\n",
              "    </tr>\n",
              "  </thead>\n",
              "  <tbody>\n",
              "    <tr>\n",
              "      <th>a</th>\n",
              "      <td>cat</td>\n",
              "      <td>2.5</td>\n",
              "      <td>1</td>\n",
              "      <td>yes</td>\n",
              "    </tr>\n",
              "    <tr>\n",
              "      <th>b</th>\n",
              "      <td>cat</td>\n",
              "      <td>3.0</td>\n",
              "      <td>3</td>\n",
              "      <td>yes</td>\n",
              "    </tr>\n",
              "    <tr>\n",
              "      <th>c</th>\n",
              "      <td>snake</td>\n",
              "      <td>0.5</td>\n",
              "      <td>2</td>\n",
              "      <td>no</td>\n",
              "    </tr>\n",
              "    <tr>\n",
              "      <th>d</th>\n",
              "      <td>dog</td>\n",
              "      <td>NaN</td>\n",
              "      <td>3</td>\n",
              "      <td>yes</td>\n",
              "    </tr>\n",
              "    <tr>\n",
              "      <th>e</th>\n",
              "      <td>dog</td>\n",
              "      <td>5.0</td>\n",
              "      <td>2</td>\n",
              "      <td>no</td>\n",
              "    </tr>\n",
              "    <tr>\n",
              "      <th>f</th>\n",
              "      <td>cat</td>\n",
              "      <td>2.0</td>\n",
              "      <td>3</td>\n",
              "      <td>no</td>\n",
              "    </tr>\n",
              "    <tr>\n",
              "      <th>g</th>\n",
              "      <td>snake</td>\n",
              "      <td>4.5</td>\n",
              "      <td>1</td>\n",
              "      <td>no</td>\n",
              "    </tr>\n",
              "    <tr>\n",
              "      <th>h</th>\n",
              "      <td>cat</td>\n",
              "      <td>NaN</td>\n",
              "      <td>1</td>\n",
              "      <td>yes</td>\n",
              "    </tr>\n",
              "    <tr>\n",
              "      <th>i</th>\n",
              "      <td>dog</td>\n",
              "      <td>7.0</td>\n",
              "      <td>2</td>\n",
              "      <td>no</td>\n",
              "    </tr>\n",
              "    <tr>\n",
              "      <th>j</th>\n",
              "      <td>dog</td>\n",
              "      <td>3.0</td>\n",
              "      <td>1</td>\n",
              "      <td>no</td>\n",
              "    </tr>\n",
              "  </tbody>\n",
              "</table>\n",
              "</div>\n",
              "      <button class=\"colab-df-convert\" onclick=\"convertToInteractive('df-3045b4a6-5c54-499b-8f11-e374fb6a2dec')\"\n",
              "              title=\"Convert this dataframe to an interactive table.\"\n",
              "              style=\"display:none;\">\n",
              "        \n",
              "  <svg xmlns=\"http://www.w3.org/2000/svg\" height=\"24px\"viewBox=\"0 0 24 24\"\n",
              "       width=\"24px\">\n",
              "    <path d=\"M0 0h24v24H0V0z\" fill=\"none\"/>\n",
              "    <path d=\"M18.56 5.44l.94 2.06.94-2.06 2.06-.94-2.06-.94-.94-2.06-.94 2.06-2.06.94zm-11 1L8.5 8.5l.94-2.06 2.06-.94-2.06-.94L8.5 2.5l-.94 2.06-2.06.94zm10 10l.94 2.06.94-2.06 2.06-.94-2.06-.94-.94-2.06-.94 2.06-2.06.94z\"/><path d=\"M17.41 7.96l-1.37-1.37c-.4-.4-.92-.59-1.43-.59-.52 0-1.04.2-1.43.59L10.3 9.45l-7.72 7.72c-.78.78-.78 2.05 0 2.83L4 21.41c.39.39.9.59 1.41.59.51 0 1.02-.2 1.41-.59l7.78-7.78 2.81-2.81c.8-.78.8-2.07 0-2.86zM5.41 20L4 18.59l7.72-7.72 1.47 1.35L5.41 20z\"/>\n",
              "  </svg>\n",
              "      </button>\n",
              "      \n",
              "  <style>\n",
              "    .colab-df-container {\n",
              "      display:flex;\n",
              "      flex-wrap:wrap;\n",
              "      gap: 12px;\n",
              "    }\n",
              "\n",
              "    .colab-df-convert {\n",
              "      background-color: #E8F0FE;\n",
              "      border: none;\n",
              "      border-radius: 50%;\n",
              "      cursor: pointer;\n",
              "      display: none;\n",
              "      fill: #1967D2;\n",
              "      height: 32px;\n",
              "      padding: 0 0 0 0;\n",
              "      width: 32px;\n",
              "    }\n",
              "\n",
              "    .colab-df-convert:hover {\n",
              "      background-color: #E2EBFA;\n",
              "      box-shadow: 0px 1px 2px rgba(60, 64, 67, 0.3), 0px 1px 3px 1px rgba(60, 64, 67, 0.15);\n",
              "      fill: #174EA6;\n",
              "    }\n",
              "\n",
              "    [theme=dark] .colab-df-convert {\n",
              "      background-color: #3B4455;\n",
              "      fill: #D2E3FC;\n",
              "    }\n",
              "\n",
              "    [theme=dark] .colab-df-convert:hover {\n",
              "      background-color: #434B5C;\n",
              "      box-shadow: 0px 1px 3px 1px rgba(0, 0, 0, 0.15);\n",
              "      filter: drop-shadow(0px 1px 2px rgba(0, 0, 0, 0.3));\n",
              "      fill: #FFFFFF;\n",
              "    }\n",
              "  </style>\n",
              "\n",
              "      <script>\n",
              "        const buttonEl =\n",
              "          document.querySelector('#df-3045b4a6-5c54-499b-8f11-e374fb6a2dec button.colab-df-convert');\n",
              "        buttonEl.style.display =\n",
              "          google.colab.kernel.accessAllowed ? 'block' : 'none';\n",
              "\n",
              "        async function convertToInteractive(key) {\n",
              "          const element = document.querySelector('#df-3045b4a6-5c54-499b-8f11-e374fb6a2dec');\n",
              "          const dataTable =\n",
              "            await google.colab.kernel.invokeFunction('convertToInteractive',\n",
              "                                                     [key], {});\n",
              "          if (!dataTable) return;\n",
              "\n",
              "          const docLinkHtml = 'Like what you see? Visit the ' +\n",
              "            '<a target=\"_blank\" href=https://colab.research.google.com/notebooks/data_table.ipynb>data table notebook</a>'\n",
              "            + ' to learn more about interactive tables.';\n",
              "          element.innerHTML = '';\n",
              "          dataTable['output_type'] = 'display_data';\n",
              "          await google.colab.output.renderOutput(dataTable, element);\n",
              "          const docLink = document.createElement('div');\n",
              "          docLink.innerHTML = docLinkHtml;\n",
              "          element.appendChild(docLink);\n",
              "        }\n",
              "      </script>\n",
              "    </div>\n",
              "  </div>\n",
              "  "
            ]
          },
          "metadata": {},
          "execution_count": 15
        }
      ]
    },
    {
      "cell_type": "markdown",
      "source": [
        "**5.** Ushbu DataFrame va uning ma'lumotlari haqidagi asosiy ma'lumotlarning qisqacha mazmunini ko'rsating.\n",
        "\n",
        "`💡Ishora:` DataFrame-da chaqirilishi mumkin bo'lgan yagona usul mavjud."
      ],
      "metadata": {
        "id": "qqkr6CnUYuDA"
      }
    },
    {
      "cell_type": "code",
      "source": [
        "df.info()"
      ],
      "metadata": {
        "id": "zhg5WrAWas6M",
        "outputId": "f76ae0d6-af6a-407e-ea8a-187495e56924",
        "colab": {
          "base_uri": "https://localhost:8080/"
        }
      },
      "execution_count": 17,
      "outputs": [
        {
          "output_type": "stream",
          "name": "stdout",
          "text": [
            "<class 'pandas.core.frame.DataFrame'>\n",
            "Index: 10 entries, a to j\n",
            "Data columns (total 4 columns):\n",
            " #   Column    Non-Null Count  Dtype  \n",
            "---  ------    --------------  -----  \n",
            " 0   animal    10 non-null     object \n",
            " 1   age       8 non-null      float64\n",
            " 2   visits    10 non-null     int64  \n",
            " 3   priority  10 non-null     object \n",
            "dtypes: float64(1), int64(1), object(2)\n",
            "memory usage: 700.0+ bytes\n"
          ]
        }
      ]
    },
    {
      "cell_type": "markdown",
      "source": [
        "**6.** DataFrame `df` dastlabki 3 qatorini qaytaring."
      ],
      "metadata": {
        "id": "Y4k2cbKHUuZJ"
      }
    },
    {
      "cell_type": "code",
      "source": [
        "df.head(3)"
      ],
      "metadata": {
        "id": "zoc38z_Na2GN",
        "outputId": "024d1223-9f79-4b48-c887-d4674bb98434",
        "colab": {
          "base_uri": "https://localhost:8080/",
          "height": 143
        }
      },
      "execution_count": 18,
      "outputs": [
        {
          "output_type": "execute_result",
          "data": {
            "text/plain": [
              "  animal  age  visits priority\n",
              "a    cat  2.5       1      yes\n",
              "b    cat  3.0       3      yes\n",
              "c  snake  0.5       2       no"
            ],
            "text/html": [
              "\n",
              "  <div id=\"df-f38c7417-c3a6-4a01-9dae-0af9a8b0158b\">\n",
              "    <div class=\"colab-df-container\">\n",
              "      <div>\n",
              "<style scoped>\n",
              "    .dataframe tbody tr th:only-of-type {\n",
              "        vertical-align: middle;\n",
              "    }\n",
              "\n",
              "    .dataframe tbody tr th {\n",
              "        vertical-align: top;\n",
              "    }\n",
              "\n",
              "    .dataframe thead th {\n",
              "        text-align: right;\n",
              "    }\n",
              "</style>\n",
              "<table border=\"1\" class=\"dataframe\">\n",
              "  <thead>\n",
              "    <tr style=\"text-align: right;\">\n",
              "      <th></th>\n",
              "      <th>animal</th>\n",
              "      <th>age</th>\n",
              "      <th>visits</th>\n",
              "      <th>priority</th>\n",
              "    </tr>\n",
              "  </thead>\n",
              "  <tbody>\n",
              "    <tr>\n",
              "      <th>a</th>\n",
              "      <td>cat</td>\n",
              "      <td>2.5</td>\n",
              "      <td>1</td>\n",
              "      <td>yes</td>\n",
              "    </tr>\n",
              "    <tr>\n",
              "      <th>b</th>\n",
              "      <td>cat</td>\n",
              "      <td>3.0</td>\n",
              "      <td>3</td>\n",
              "      <td>yes</td>\n",
              "    </tr>\n",
              "    <tr>\n",
              "      <th>c</th>\n",
              "      <td>snake</td>\n",
              "      <td>0.5</td>\n",
              "      <td>2</td>\n",
              "      <td>no</td>\n",
              "    </tr>\n",
              "  </tbody>\n",
              "</table>\n",
              "</div>\n",
              "      <button class=\"colab-df-convert\" onclick=\"convertToInteractive('df-f38c7417-c3a6-4a01-9dae-0af9a8b0158b')\"\n",
              "              title=\"Convert this dataframe to an interactive table.\"\n",
              "              style=\"display:none;\">\n",
              "        \n",
              "  <svg xmlns=\"http://www.w3.org/2000/svg\" height=\"24px\"viewBox=\"0 0 24 24\"\n",
              "       width=\"24px\">\n",
              "    <path d=\"M0 0h24v24H0V0z\" fill=\"none\"/>\n",
              "    <path d=\"M18.56 5.44l.94 2.06.94-2.06 2.06-.94-2.06-.94-.94-2.06-.94 2.06-2.06.94zm-11 1L8.5 8.5l.94-2.06 2.06-.94-2.06-.94L8.5 2.5l-.94 2.06-2.06.94zm10 10l.94 2.06.94-2.06 2.06-.94-2.06-.94-.94-2.06-.94 2.06-2.06.94z\"/><path d=\"M17.41 7.96l-1.37-1.37c-.4-.4-.92-.59-1.43-.59-.52 0-1.04.2-1.43.59L10.3 9.45l-7.72 7.72c-.78.78-.78 2.05 0 2.83L4 21.41c.39.39.9.59 1.41.59.51 0 1.02-.2 1.41-.59l7.78-7.78 2.81-2.81c.8-.78.8-2.07 0-2.86zM5.41 20L4 18.59l7.72-7.72 1.47 1.35L5.41 20z\"/>\n",
              "  </svg>\n",
              "      </button>\n",
              "      \n",
              "  <style>\n",
              "    .colab-df-container {\n",
              "      display:flex;\n",
              "      flex-wrap:wrap;\n",
              "      gap: 12px;\n",
              "    }\n",
              "\n",
              "    .colab-df-convert {\n",
              "      background-color: #E8F0FE;\n",
              "      border: none;\n",
              "      border-radius: 50%;\n",
              "      cursor: pointer;\n",
              "      display: none;\n",
              "      fill: #1967D2;\n",
              "      height: 32px;\n",
              "      padding: 0 0 0 0;\n",
              "      width: 32px;\n",
              "    }\n",
              "\n",
              "    .colab-df-convert:hover {\n",
              "      background-color: #E2EBFA;\n",
              "      box-shadow: 0px 1px 2px rgba(60, 64, 67, 0.3), 0px 1px 3px 1px rgba(60, 64, 67, 0.15);\n",
              "      fill: #174EA6;\n",
              "    }\n",
              "\n",
              "    [theme=dark] .colab-df-convert {\n",
              "      background-color: #3B4455;\n",
              "      fill: #D2E3FC;\n",
              "    }\n",
              "\n",
              "    [theme=dark] .colab-df-convert:hover {\n",
              "      background-color: #434B5C;\n",
              "      box-shadow: 0px 1px 3px 1px rgba(0, 0, 0, 0.15);\n",
              "      filter: drop-shadow(0px 1px 2px rgba(0, 0, 0, 0.3));\n",
              "      fill: #FFFFFF;\n",
              "    }\n",
              "  </style>\n",
              "\n",
              "      <script>\n",
              "        const buttonEl =\n",
              "          document.querySelector('#df-f38c7417-c3a6-4a01-9dae-0af9a8b0158b button.colab-df-convert');\n",
              "        buttonEl.style.display =\n",
              "          google.colab.kernel.accessAllowed ? 'block' : 'none';\n",
              "\n",
              "        async function convertToInteractive(key) {\n",
              "          const element = document.querySelector('#df-f38c7417-c3a6-4a01-9dae-0af9a8b0158b');\n",
              "          const dataTable =\n",
              "            await google.colab.kernel.invokeFunction('convertToInteractive',\n",
              "                                                     [key], {});\n",
              "          if (!dataTable) return;\n",
              "\n",
              "          const docLinkHtml = 'Like what you see? Visit the ' +\n",
              "            '<a target=\"_blank\" href=https://colab.research.google.com/notebooks/data_table.ipynb>data table notebook</a>'\n",
              "            + ' to learn more about interactive tables.';\n",
              "          element.innerHTML = '';\n",
              "          dataTable['output_type'] = 'display_data';\n",
              "          await google.colab.output.renderOutput(dataTable, element);\n",
              "          const docLink = document.createElement('div');\n",
              "          docLink.innerHTML = docLinkHtml;\n",
              "          element.appendChild(docLink);\n",
              "        }\n",
              "      </script>\n",
              "    </div>\n",
              "  </div>\n",
              "  "
            ]
          },
          "metadata": {},
          "execution_count": 18
        }
      ]
    },
    {
      "cell_type": "markdown",
      "source": [
        "**7.** DataFrame `df`-dan faqat `animal` va `age` ustunlarini tanlang."
      ],
      "metadata": {
        "id": "AOBlGGnBXjME"
      }
    },
    {
      "cell_type": "code",
      "source": [
        "df[['animal', 'age']]"
      ],
      "metadata": {
        "id": "mhXMdjqC9_u6",
        "outputId": "a705ef5e-bd2a-49cd-a612-080c6ec1a453",
        "colab": {
          "base_uri": "https://localhost:8080/",
          "height": 362
        }
      },
      "execution_count": 22,
      "outputs": [
        {
          "output_type": "execute_result",
          "data": {
            "text/plain": [
              "  animal  age\n",
              "a    cat  2.5\n",
              "b    cat  3.0\n",
              "c  snake  0.5\n",
              "d    dog  NaN\n",
              "e    dog  5.0\n",
              "f    cat  2.0\n",
              "g  snake  4.5\n",
              "h    cat  NaN\n",
              "i    dog  7.0\n",
              "j    dog  3.0"
            ],
            "text/html": [
              "\n",
              "  <div id=\"df-b71091d5-22a3-44ad-a4bd-2adb83bbb305\">\n",
              "    <div class=\"colab-df-container\">\n",
              "      <div>\n",
              "<style scoped>\n",
              "    .dataframe tbody tr th:only-of-type {\n",
              "        vertical-align: middle;\n",
              "    }\n",
              "\n",
              "    .dataframe tbody tr th {\n",
              "        vertical-align: top;\n",
              "    }\n",
              "\n",
              "    .dataframe thead th {\n",
              "        text-align: right;\n",
              "    }\n",
              "</style>\n",
              "<table border=\"1\" class=\"dataframe\">\n",
              "  <thead>\n",
              "    <tr style=\"text-align: right;\">\n",
              "      <th></th>\n",
              "      <th>animal</th>\n",
              "      <th>age</th>\n",
              "    </tr>\n",
              "  </thead>\n",
              "  <tbody>\n",
              "    <tr>\n",
              "      <th>a</th>\n",
              "      <td>cat</td>\n",
              "      <td>2.5</td>\n",
              "    </tr>\n",
              "    <tr>\n",
              "      <th>b</th>\n",
              "      <td>cat</td>\n",
              "      <td>3.0</td>\n",
              "    </tr>\n",
              "    <tr>\n",
              "      <th>c</th>\n",
              "      <td>snake</td>\n",
              "      <td>0.5</td>\n",
              "    </tr>\n",
              "    <tr>\n",
              "      <th>d</th>\n",
              "      <td>dog</td>\n",
              "      <td>NaN</td>\n",
              "    </tr>\n",
              "    <tr>\n",
              "      <th>e</th>\n",
              "      <td>dog</td>\n",
              "      <td>5.0</td>\n",
              "    </tr>\n",
              "    <tr>\n",
              "      <th>f</th>\n",
              "      <td>cat</td>\n",
              "      <td>2.0</td>\n",
              "    </tr>\n",
              "    <tr>\n",
              "      <th>g</th>\n",
              "      <td>snake</td>\n",
              "      <td>4.5</td>\n",
              "    </tr>\n",
              "    <tr>\n",
              "      <th>h</th>\n",
              "      <td>cat</td>\n",
              "      <td>NaN</td>\n",
              "    </tr>\n",
              "    <tr>\n",
              "      <th>i</th>\n",
              "      <td>dog</td>\n",
              "      <td>7.0</td>\n",
              "    </tr>\n",
              "    <tr>\n",
              "      <th>j</th>\n",
              "      <td>dog</td>\n",
              "      <td>3.0</td>\n",
              "    </tr>\n",
              "  </tbody>\n",
              "</table>\n",
              "</div>\n",
              "      <button class=\"colab-df-convert\" onclick=\"convertToInteractive('df-b71091d5-22a3-44ad-a4bd-2adb83bbb305')\"\n",
              "              title=\"Convert this dataframe to an interactive table.\"\n",
              "              style=\"display:none;\">\n",
              "        \n",
              "  <svg xmlns=\"http://www.w3.org/2000/svg\" height=\"24px\"viewBox=\"0 0 24 24\"\n",
              "       width=\"24px\">\n",
              "    <path d=\"M0 0h24v24H0V0z\" fill=\"none\"/>\n",
              "    <path d=\"M18.56 5.44l.94 2.06.94-2.06 2.06-.94-2.06-.94-.94-2.06-.94 2.06-2.06.94zm-11 1L8.5 8.5l.94-2.06 2.06-.94-2.06-.94L8.5 2.5l-.94 2.06-2.06.94zm10 10l.94 2.06.94-2.06 2.06-.94-2.06-.94-.94-2.06-.94 2.06-2.06.94z\"/><path d=\"M17.41 7.96l-1.37-1.37c-.4-.4-.92-.59-1.43-.59-.52 0-1.04.2-1.43.59L10.3 9.45l-7.72 7.72c-.78.78-.78 2.05 0 2.83L4 21.41c.39.39.9.59 1.41.59.51 0 1.02-.2 1.41-.59l7.78-7.78 2.81-2.81c.8-.78.8-2.07 0-2.86zM5.41 20L4 18.59l7.72-7.72 1.47 1.35L5.41 20z\"/>\n",
              "  </svg>\n",
              "      </button>\n",
              "      \n",
              "  <style>\n",
              "    .colab-df-container {\n",
              "      display:flex;\n",
              "      flex-wrap:wrap;\n",
              "      gap: 12px;\n",
              "    }\n",
              "\n",
              "    .colab-df-convert {\n",
              "      background-color: #E8F0FE;\n",
              "      border: none;\n",
              "      border-radius: 50%;\n",
              "      cursor: pointer;\n",
              "      display: none;\n",
              "      fill: #1967D2;\n",
              "      height: 32px;\n",
              "      padding: 0 0 0 0;\n",
              "      width: 32px;\n",
              "    }\n",
              "\n",
              "    .colab-df-convert:hover {\n",
              "      background-color: #E2EBFA;\n",
              "      box-shadow: 0px 1px 2px rgba(60, 64, 67, 0.3), 0px 1px 3px 1px rgba(60, 64, 67, 0.15);\n",
              "      fill: #174EA6;\n",
              "    }\n",
              "\n",
              "    [theme=dark] .colab-df-convert {\n",
              "      background-color: #3B4455;\n",
              "      fill: #D2E3FC;\n",
              "    }\n",
              "\n",
              "    [theme=dark] .colab-df-convert:hover {\n",
              "      background-color: #434B5C;\n",
              "      box-shadow: 0px 1px 3px 1px rgba(0, 0, 0, 0.15);\n",
              "      filter: drop-shadow(0px 1px 2px rgba(0, 0, 0, 0.3));\n",
              "      fill: #FFFFFF;\n",
              "    }\n",
              "  </style>\n",
              "\n",
              "      <script>\n",
              "        const buttonEl =\n",
              "          document.querySelector('#df-b71091d5-22a3-44ad-a4bd-2adb83bbb305 button.colab-df-convert');\n",
              "        buttonEl.style.display =\n",
              "          google.colab.kernel.accessAllowed ? 'block' : 'none';\n",
              "\n",
              "        async function convertToInteractive(key) {\n",
              "          const element = document.querySelector('#df-b71091d5-22a3-44ad-a4bd-2adb83bbb305');\n",
              "          const dataTable =\n",
              "            await google.colab.kernel.invokeFunction('convertToInteractive',\n",
              "                                                     [key], {});\n",
              "          if (!dataTable) return;\n",
              "\n",
              "          const docLinkHtml = 'Like what you see? Visit the ' +\n",
              "            '<a target=\"_blank\" href=https://colab.research.google.com/notebooks/data_table.ipynb>data table notebook</a>'\n",
              "            + ' to learn more about interactive tables.';\n",
              "          element.innerHTML = '';\n",
              "          dataTable['output_type'] = 'display_data';\n",
              "          await google.colab.output.renderOutput(dataTable, element);\n",
              "          const docLink = document.createElement('div');\n",
              "          docLink.innerHTML = docLinkHtml;\n",
              "          element.appendChild(docLink);\n",
              "        }\n",
              "      </script>\n",
              "    </div>\n",
              "  </div>\n",
              "  "
            ]
          },
          "metadata": {},
          "execution_count": 22
        }
      ]
    },
    {
      "cell_type": "markdown",
      "source": [
        "**8.** `[3, 4, 8]` va `['animal', 'age']` qatorlaridagi ma'lumotlarni tanlang."
      ],
      "metadata": {
        "id": "b_ATYbcVbJWR"
      }
    },
    {
      "cell_type": "code",
      "source": [
        "df.iloc[[3,4,8],[0,1]]"
      ],
      "metadata": {
        "id": "MxaWtISIbEcc",
        "outputId": "1e616c77-8846-486d-c090-a24bbe158869",
        "colab": {
          "base_uri": "https://localhost:8080/",
          "height": 143
        }
      },
      "execution_count": 30,
      "outputs": [
        {
          "output_type": "execute_result",
          "data": {
            "text/plain": [
              "  animal  age\n",
              "d    dog  NaN\n",
              "e    dog  5.0\n",
              "i    dog  7.0"
            ],
            "text/html": [
              "\n",
              "  <div id=\"df-19f005b6-8915-495e-a746-14fdd45a432f\">\n",
              "    <div class=\"colab-df-container\">\n",
              "      <div>\n",
              "<style scoped>\n",
              "    .dataframe tbody tr th:only-of-type {\n",
              "        vertical-align: middle;\n",
              "    }\n",
              "\n",
              "    .dataframe tbody tr th {\n",
              "        vertical-align: top;\n",
              "    }\n",
              "\n",
              "    .dataframe thead th {\n",
              "        text-align: right;\n",
              "    }\n",
              "</style>\n",
              "<table border=\"1\" class=\"dataframe\">\n",
              "  <thead>\n",
              "    <tr style=\"text-align: right;\">\n",
              "      <th></th>\n",
              "      <th>animal</th>\n",
              "      <th>age</th>\n",
              "    </tr>\n",
              "  </thead>\n",
              "  <tbody>\n",
              "    <tr>\n",
              "      <th>d</th>\n",
              "      <td>dog</td>\n",
              "      <td>NaN</td>\n",
              "    </tr>\n",
              "    <tr>\n",
              "      <th>e</th>\n",
              "      <td>dog</td>\n",
              "      <td>5.0</td>\n",
              "    </tr>\n",
              "    <tr>\n",
              "      <th>i</th>\n",
              "      <td>dog</td>\n",
              "      <td>7.0</td>\n",
              "    </tr>\n",
              "  </tbody>\n",
              "</table>\n",
              "</div>\n",
              "      <button class=\"colab-df-convert\" onclick=\"convertToInteractive('df-19f005b6-8915-495e-a746-14fdd45a432f')\"\n",
              "              title=\"Convert this dataframe to an interactive table.\"\n",
              "              style=\"display:none;\">\n",
              "        \n",
              "  <svg xmlns=\"http://www.w3.org/2000/svg\" height=\"24px\"viewBox=\"0 0 24 24\"\n",
              "       width=\"24px\">\n",
              "    <path d=\"M0 0h24v24H0V0z\" fill=\"none\"/>\n",
              "    <path d=\"M18.56 5.44l.94 2.06.94-2.06 2.06-.94-2.06-.94-.94-2.06-.94 2.06-2.06.94zm-11 1L8.5 8.5l.94-2.06 2.06-.94-2.06-.94L8.5 2.5l-.94 2.06-2.06.94zm10 10l.94 2.06.94-2.06 2.06-.94-2.06-.94-.94-2.06-.94 2.06-2.06.94z\"/><path d=\"M17.41 7.96l-1.37-1.37c-.4-.4-.92-.59-1.43-.59-.52 0-1.04.2-1.43.59L10.3 9.45l-7.72 7.72c-.78.78-.78 2.05 0 2.83L4 21.41c.39.39.9.59 1.41.59.51 0 1.02-.2 1.41-.59l7.78-7.78 2.81-2.81c.8-.78.8-2.07 0-2.86zM5.41 20L4 18.59l7.72-7.72 1.47 1.35L5.41 20z\"/>\n",
              "  </svg>\n",
              "      </button>\n",
              "      \n",
              "  <style>\n",
              "    .colab-df-container {\n",
              "      display:flex;\n",
              "      flex-wrap:wrap;\n",
              "      gap: 12px;\n",
              "    }\n",
              "\n",
              "    .colab-df-convert {\n",
              "      background-color: #E8F0FE;\n",
              "      border: none;\n",
              "      border-radius: 50%;\n",
              "      cursor: pointer;\n",
              "      display: none;\n",
              "      fill: #1967D2;\n",
              "      height: 32px;\n",
              "      padding: 0 0 0 0;\n",
              "      width: 32px;\n",
              "    }\n",
              "\n",
              "    .colab-df-convert:hover {\n",
              "      background-color: #E2EBFA;\n",
              "      box-shadow: 0px 1px 2px rgba(60, 64, 67, 0.3), 0px 1px 3px 1px rgba(60, 64, 67, 0.15);\n",
              "      fill: #174EA6;\n",
              "    }\n",
              "\n",
              "    [theme=dark] .colab-df-convert {\n",
              "      background-color: #3B4455;\n",
              "      fill: #D2E3FC;\n",
              "    }\n",
              "\n",
              "    [theme=dark] .colab-df-convert:hover {\n",
              "      background-color: #434B5C;\n",
              "      box-shadow: 0px 1px 3px 1px rgba(0, 0, 0, 0.15);\n",
              "      filter: drop-shadow(0px 1px 2px rgba(0, 0, 0, 0.3));\n",
              "      fill: #FFFFFF;\n",
              "    }\n",
              "  </style>\n",
              "\n",
              "      <script>\n",
              "        const buttonEl =\n",
              "          document.querySelector('#df-19f005b6-8915-495e-a746-14fdd45a432f button.colab-df-convert');\n",
              "        buttonEl.style.display =\n",
              "          google.colab.kernel.accessAllowed ? 'block' : 'none';\n",
              "\n",
              "        async function convertToInteractive(key) {\n",
              "          const element = document.querySelector('#df-19f005b6-8915-495e-a746-14fdd45a432f');\n",
              "          const dataTable =\n",
              "            await google.colab.kernel.invokeFunction('convertToInteractive',\n",
              "                                                     [key], {});\n",
              "          if (!dataTable) return;\n",
              "\n",
              "          const docLinkHtml = 'Like what you see? Visit the ' +\n",
              "            '<a target=\"_blank\" href=https://colab.research.google.com/notebooks/data_table.ipynb>data table notebook</a>'\n",
              "            + ' to learn more about interactive tables.';\n",
              "          element.innerHTML = '';\n",
              "          dataTable['output_type'] = 'display_data';\n",
              "          await google.colab.output.renderOutput(dataTable, element);\n",
              "          const docLink = document.createElement('div');\n",
              "          docLink.innerHTML = docLinkHtml;\n",
              "          element.appendChild(docLink);\n",
              "        }\n",
              "      </script>\n",
              "    </div>\n",
              "  </div>\n",
              "  "
            ]
          },
          "metadata": {},
          "execution_count": 30
        }
      ]
    },
    {
      "cell_type": "markdown",
      "source": [
        "**9.** Faqat `visits` soni 3 tadan ko'p bo'lgan qatorlarni tanlang."
      ],
      "metadata": {
        "id": "WuCD7tPqcU3c"
      }
    },
    {
      "cell_type": "code",
      "source": [
        "df[df['visits']>=3]"
      ],
      "metadata": {
        "id": "NsbE4IXtclPm",
        "outputId": "188b538e-8c2f-4ed9-ff33-881458ebace2",
        "colab": {
          "base_uri": "https://localhost:8080/",
          "height": 143
        }
      },
      "execution_count": 32,
      "outputs": [
        {
          "output_type": "execute_result",
          "data": {
            "text/plain": [
              "  animal  age  visits priority\n",
              "b    cat  3.0       3      yes\n",
              "d    dog  NaN       3      yes\n",
              "f    cat  2.0       3       no"
            ],
            "text/html": [
              "\n",
              "  <div id=\"df-7aebf242-8170-413f-9a6e-bfb15326d6d9\">\n",
              "    <div class=\"colab-df-container\">\n",
              "      <div>\n",
              "<style scoped>\n",
              "    .dataframe tbody tr th:only-of-type {\n",
              "        vertical-align: middle;\n",
              "    }\n",
              "\n",
              "    .dataframe tbody tr th {\n",
              "        vertical-align: top;\n",
              "    }\n",
              "\n",
              "    .dataframe thead th {\n",
              "        text-align: right;\n",
              "    }\n",
              "</style>\n",
              "<table border=\"1\" class=\"dataframe\">\n",
              "  <thead>\n",
              "    <tr style=\"text-align: right;\">\n",
              "      <th></th>\n",
              "      <th>animal</th>\n",
              "      <th>age</th>\n",
              "      <th>visits</th>\n",
              "      <th>priority</th>\n",
              "    </tr>\n",
              "  </thead>\n",
              "  <tbody>\n",
              "    <tr>\n",
              "      <th>b</th>\n",
              "      <td>cat</td>\n",
              "      <td>3.0</td>\n",
              "      <td>3</td>\n",
              "      <td>yes</td>\n",
              "    </tr>\n",
              "    <tr>\n",
              "      <th>d</th>\n",
              "      <td>dog</td>\n",
              "      <td>NaN</td>\n",
              "      <td>3</td>\n",
              "      <td>yes</td>\n",
              "    </tr>\n",
              "    <tr>\n",
              "      <th>f</th>\n",
              "      <td>cat</td>\n",
              "      <td>2.0</td>\n",
              "      <td>3</td>\n",
              "      <td>no</td>\n",
              "    </tr>\n",
              "  </tbody>\n",
              "</table>\n",
              "</div>\n",
              "      <button class=\"colab-df-convert\" onclick=\"convertToInteractive('df-7aebf242-8170-413f-9a6e-bfb15326d6d9')\"\n",
              "              title=\"Convert this dataframe to an interactive table.\"\n",
              "              style=\"display:none;\">\n",
              "        \n",
              "  <svg xmlns=\"http://www.w3.org/2000/svg\" height=\"24px\"viewBox=\"0 0 24 24\"\n",
              "       width=\"24px\">\n",
              "    <path d=\"M0 0h24v24H0V0z\" fill=\"none\"/>\n",
              "    <path d=\"M18.56 5.44l.94 2.06.94-2.06 2.06-.94-2.06-.94-.94-2.06-.94 2.06-2.06.94zm-11 1L8.5 8.5l.94-2.06 2.06-.94-2.06-.94L8.5 2.5l-.94 2.06-2.06.94zm10 10l.94 2.06.94-2.06 2.06-.94-2.06-.94-.94-2.06-.94 2.06-2.06.94z\"/><path d=\"M17.41 7.96l-1.37-1.37c-.4-.4-.92-.59-1.43-.59-.52 0-1.04.2-1.43.59L10.3 9.45l-7.72 7.72c-.78.78-.78 2.05 0 2.83L4 21.41c.39.39.9.59 1.41.59.51 0 1.02-.2 1.41-.59l7.78-7.78 2.81-2.81c.8-.78.8-2.07 0-2.86zM5.41 20L4 18.59l7.72-7.72 1.47 1.35L5.41 20z\"/>\n",
              "  </svg>\n",
              "      </button>\n",
              "      \n",
              "  <style>\n",
              "    .colab-df-container {\n",
              "      display:flex;\n",
              "      flex-wrap:wrap;\n",
              "      gap: 12px;\n",
              "    }\n",
              "\n",
              "    .colab-df-convert {\n",
              "      background-color: #E8F0FE;\n",
              "      border: none;\n",
              "      border-radius: 50%;\n",
              "      cursor: pointer;\n",
              "      display: none;\n",
              "      fill: #1967D2;\n",
              "      height: 32px;\n",
              "      padding: 0 0 0 0;\n",
              "      width: 32px;\n",
              "    }\n",
              "\n",
              "    .colab-df-convert:hover {\n",
              "      background-color: #E2EBFA;\n",
              "      box-shadow: 0px 1px 2px rgba(60, 64, 67, 0.3), 0px 1px 3px 1px rgba(60, 64, 67, 0.15);\n",
              "      fill: #174EA6;\n",
              "    }\n",
              "\n",
              "    [theme=dark] .colab-df-convert {\n",
              "      background-color: #3B4455;\n",
              "      fill: #D2E3FC;\n",
              "    }\n",
              "\n",
              "    [theme=dark] .colab-df-convert:hover {\n",
              "      background-color: #434B5C;\n",
              "      box-shadow: 0px 1px 3px 1px rgba(0, 0, 0, 0.15);\n",
              "      filter: drop-shadow(0px 1px 2px rgba(0, 0, 0, 0.3));\n",
              "      fill: #FFFFFF;\n",
              "    }\n",
              "  </style>\n",
              "\n",
              "      <script>\n",
              "        const buttonEl =\n",
              "          document.querySelector('#df-7aebf242-8170-413f-9a6e-bfb15326d6d9 button.colab-df-convert');\n",
              "        buttonEl.style.display =\n",
              "          google.colab.kernel.accessAllowed ? 'block' : 'none';\n",
              "\n",
              "        async function convertToInteractive(key) {\n",
              "          const element = document.querySelector('#df-7aebf242-8170-413f-9a6e-bfb15326d6d9');\n",
              "          const dataTable =\n",
              "            await google.colab.kernel.invokeFunction('convertToInteractive',\n",
              "                                                     [key], {});\n",
              "          if (!dataTable) return;\n",
              "\n",
              "          const docLinkHtml = 'Like what you see? Visit the ' +\n",
              "            '<a target=\"_blank\" href=https://colab.research.google.com/notebooks/data_table.ipynb>data table notebook</a>'\n",
              "            + ' to learn more about interactive tables.';\n",
              "          element.innerHTML = '';\n",
              "          dataTable['output_type'] = 'display_data';\n",
              "          await google.colab.output.renderOutput(dataTable, element);\n",
              "          const docLink = document.createElement('div');\n",
              "          docLink.innerHTML = docLinkHtml;\n",
              "          element.appendChild(docLink);\n",
              "        }\n",
              "      </script>\n",
              "    </div>\n",
              "  </div>\n",
              "  "
            ]
          },
          "metadata": {},
          "execution_count": 32
        }
      ]
    },
    {
      "cell_type": "markdown",
      "source": [
        "10. Yosh yo'qolgan qatorlarni tanlang, ya'ni `NaN`"
      ],
      "metadata": {
        "id": "I5JR1484dM9m"
      }
    },
    {
      "cell_type": "code",
      "source": [
        "nans = ['NaN']\n",
        "mask = df.isnull()\n",
        "df(mask)"
      ],
      "metadata": {
        "id": "ljI_0EpidMRV",
        "outputId": "8b6d55c8-b471-4517-9efa-990567f36eff",
        "colab": {
          "base_uri": "https://localhost:8080/",
          "height": 205
        }
      },
      "execution_count": 41,
      "outputs": [
        {
          "output_type": "error",
          "ename": "TypeError",
          "evalue": "ignored",
          "traceback": [
            "\u001b[0;31m---------------------------------------------------------------------------\u001b[0m",
            "\u001b[0;31mTypeError\u001b[0m                                 Traceback (most recent call last)",
            "\u001b[0;32m<ipython-input-41-080ad8c3b551>\u001b[0m in \u001b[0;36m<module>\u001b[0;34m\u001b[0m\n\u001b[1;32m      1\u001b[0m \u001b[0mnans\u001b[0m \u001b[0;34m=\u001b[0m \u001b[0;34m[\u001b[0m\u001b[0;34m'NaN'\u001b[0m\u001b[0;34m]\u001b[0m\u001b[0;34m\u001b[0m\u001b[0;34m\u001b[0m\u001b[0m\n\u001b[1;32m      2\u001b[0m \u001b[0mmask\u001b[0m \u001b[0;34m=\u001b[0m \u001b[0mdf\u001b[0m\u001b[0;34m.\u001b[0m\u001b[0misnull\u001b[0m\u001b[0;34m(\u001b[0m\u001b[0;34m)\u001b[0m\u001b[0;34m\u001b[0m\u001b[0;34m\u001b[0m\u001b[0m\n\u001b[0;32m----> 3\u001b[0;31m \u001b[0mdf\u001b[0m\u001b[0;34m(\u001b[0m\u001b[0mmask\u001b[0m\u001b[0;34m)\u001b[0m\u001b[0;34m\u001b[0m\u001b[0;34m\u001b[0m\u001b[0m\n\u001b[0m",
            "\u001b[0;31mTypeError\u001b[0m: 'DataFrame' object is not callable"
          ]
        }
      ]
    },
    {
      "cell_type": "markdown",
      "source": [
        "**11.** `animal` qatoridagi `cat` va `age` qatoridagi `3` dan kichik bo'lgan umumiy qatorlarni tanlang."
      ],
      "metadata": {
        "id": "HiCT4089eVDF"
      }
    },
    {
      "cell_type": "code",
      "source": [],
      "metadata": {
        "id": "msnPzl_Qe3UT"
      },
      "execution_count": null,
      "outputs": []
    },
    {
      "cell_type": "markdown",
      "source": [
        "**12.** `age` 2 va 4 (shu jumladan) orasidagi qatorlarni tanlang."
      ],
      "metadata": {
        "id": "AKvZAF1ue5DQ"
      }
    },
    {
      "cell_type": "code",
      "source": [],
      "metadata": {
        "id": "eyu9uhEkfHyX"
      },
      "execution_count": null,
      "outputs": []
    },
    {
      "cell_type": "markdown",
      "source": [
        "**13.** `f` qatoridagi yoshni `1,5` ga o'zgartiring."
      ],
      "metadata": {
        "id": "vQLVYkEzfJIV"
      }
    },
    {
      "cell_type": "code",
      "source": [],
      "metadata": {
        "id": "nLGJ2_nGfIwI"
      },
      "execution_count": null,
      "outputs": []
    },
    {
      "cell_type": "markdown",
      "source": [
        "**14.** `df` yordamida `visits` qatorining yig'indisini hisoblang."
      ],
      "metadata": {
        "id": "2hhe5n8Ofhsg"
      }
    },
    {
      "cell_type": "code",
      "source": [],
      "metadata": {
        "id": "kq-v9ntkf0x1"
      },
      "execution_count": null,
      "outputs": []
    },
    {
      "cell_type": "markdown",
      "source": [
        "**15.** Har bir `animal` uchun o'rtacha yoshni `df` da hisoblang."
      ],
      "metadata": {
        "id": "OqIovNDzgnYS"
      }
    },
    {
      "cell_type": "code",
      "source": [],
      "metadata": {
        "id": "013-dSK4gm1l"
      },
      "execution_count": null,
      "outputs": []
    },
    {
      "cell_type": "markdown",
      "source": [
        "**16.** `df` yordamida har bir turdagi `animal` sonini hisoblang."
      ],
      "metadata": {
        "id": "z7xyeyHtgtQR"
      }
    },
    {
      "cell_type": "code",
      "source": [],
      "metadata": {
        "id": "6n_Ese6bhD8-"
      },
      "execution_count": null,
      "outputs": []
    },
    {
      "cell_type": "markdown",
      "source": [
        "**17.** `animal` ustunida, `snake` so'zini `python` so'ziga o'zgartiring."
      ],
      "metadata": {
        "id": "08iUPbLChLs4"
      }
    },
    {
      "cell_type": "code",
      "source": [],
      "metadata": {
        "id": "wpB4tx1HhLAD"
      },
      "execution_count": null,
      "outputs": []
    },
    {
      "cell_type": "markdown",
      "source": [
        "## `📌DataFrame: Murakkab`\n",
        "\n",
        "### Bir oz qiyinroq: to'g'ri javob olish uchun ikki yoki undan ortiq usullarni birlashtirish kerak bo'lishi mumkin\n",
        "\n",
        "Oldingi bo'lim DataFrame-ning asosiy, ammo muhim operatsiyalari bo'yicha vazifalarni jamlagan edi. Quyida ma'lumotlarni kesishingiz kerak bo'lgan mashqlar mavjud."
      ],
      "metadata": {
        "id": "KFl6Z8wthsiM"
      }
    },
    {
      "cell_type": "markdown",
      "source": [
        "**18.** Sizda butun sonlardan iborat `A` ustunli DataFrame `df` mavjud. Misol uchun:\n",
        "```python\n",
        "df = pd.DataFrame({'A': [1, 2, 2, 3, 4, 5, 5, 5, 6, 7, 7]})\n",
        "```\n",
        "\n",
        "Yuqoridagi qator bilan bir xil butun sonni o'z ichiga olgan qator yarating.\n",
        "\n",
        "\n",
        "💡Quyidagi qiymatlarni o'chirishingiz kerak:\n",
        "\n",
        "```python\n",
        "1, 2, 3, 4, 5, 6, 7\n",
        "```"
      ],
      "metadata": {
        "id": "zzWMfSzqieof"
      }
    },
    {
      "cell_type": "code",
      "source": [],
      "metadata": {
        "id": "tcrSzGB5kVb6"
      },
      "execution_count": null,
      "outputs": []
    },
    {
      "cell_type": "markdown",
      "source": [
        "**19.** Raqamli qiymatlardan iborat DataFrame berildi\n",
        "\n",
        "```python\n",
        "df = pd.DataFrame(np.random.random(size=(5, 3))) # float qiymatlarining 5x3 o'lchovi\n",
        "```\n",
        "\n",
        "Qatordagi har bir elementdan satr o'rtasini ajrating."
      ],
      "metadata": {
        "id": "5PCk01pjj3Qr"
      }
    },
    {
      "cell_type": "code",
      "source": [],
      "metadata": {
        "id": "K5HzDiQJiKwP"
      },
      "execution_count": null,
      "outputs": []
    },
    {
      "cell_type": "markdown",
      "source": [
        "**20.** Sizda 10 ta haqiqiy raqamlar ustunidan iborat DataFrame mavjud:\n",
        "\n",
        "``` python\n",
        "df = pd.DataFrame(np.random.random(size=(5, 10)), columns=list('abcdefghij'))\n",
        "```\n",
        "Qaysi sonlar ustunining yig'indisi eng kichik ekanini hisoblang. U ustunning yorlig'ini qaytaring."
      ],
      "metadata": {
        "id": "aH5N75d2kaIS"
      }
    },
    {
      "cell_type": "code",
      "source": [],
      "metadata": {
        "id": "UBom6RArkwsc"
      },
      "execution_count": null,
      "outputs": []
    },
    {
      "cell_type": "markdown",
      "source": [
        "**21.** Quyida butun sonlardan iborat DataFrame `df` mavjud. Har bir satrga  5 ta yozuv `NaN` qiymatlari kiritilgan.\n",
        "\n",
        "DataFrame ning har bir qatori uchun uchinchi `NaN` qiymatini o'z ichiga olgan ustunni toping.\n",
        "\n",
        "Ustun yorliqlarini qaytarishingiz kerak: `e, c, d, h, d`"
      ],
      "metadata": {
        "id": "cFy6Z7UPkyYz"
      }
    },
    {
      "cell_type": "code",
      "source": [
        "nan = np.nan\n",
        "\n",
        "data = [[0.04,  nan,  nan, 0.25,  nan, 0.43, 0.71, 0.51,  nan,  nan],\n",
        "        [ nan,  nan,  nan, 0.04, 0.76,  nan,  nan, 0.67, 0.76, 0.16],\n",
        "        [ nan,  nan, 0.5 ,  nan, 0.31, 0.4 ,  nan,  nan, 0.24, 0.01],\n",
        "        [0.49,  nan,  nan, 0.62, 0.73, 0.26, 0.85,  nan,  nan,  nan],\n",
        "        [ nan,  nan, 0.41,  nan, 0.05,  nan, 0.61,  nan, 0.48, 0.68]]\n",
        "\n",
        "columns = list('abcdefghij')\n",
        "\n",
        "df = pd.DataFrame(data, columns=columns)\n",
        "\n",
        "# Javobni bu yerga yozing!"
      ],
      "metadata": {
        "id": "cIjzxMY0nmZX"
      },
      "execution_count": null,
      "outputs": []
    },
    {
      "cell_type": "markdown",
      "source": [
        "**22.** DataFrame `grps` guruhlari ustuniga va `vals` butun qiymatlari ustuniga ega:\n",
        "\n",
        "```python\n",
        "df = pd.DataFrame({'grps': list('aaabbcaabcccbbc'), \n",
        "                   'vals': [12,345,3,1,45,14,4,52,54,23,235,21,57,3,87]})\n",
        "```\n",
        "Har bir `grps` uchun uchta eng katta qiymatning yig‘indisini toping. \n",
        "\n",
        "💡Javobni quyidagicha yakunlashingiz kerak:\n",
        "```\n",
        "grps\n",
        "a    409\n",
        "b    156\n",
        "c    345\n",
        "```"
      ],
      "metadata": {
        "id": "MNtSYovBn6j9"
      }
    },
    {
      "cell_type": "code",
      "source": [
        "df = pd.DataFrame({'grps': list('aaabbcaabcccbbc'), \n",
        "                   'vals': [12,345,3,1,45,14,4,52,54,23,235,21,57,3,87]})\n",
        "\n",
        "# Javobni bu yerga yozing!"
      ],
      "metadata": {
        "id": "qUQxxMOLoUSj"
      },
      "execution_count": null,
      "outputs": []
    },
    {
      "cell_type": "markdown",
      "source": [
        "**28.** Quyida tuzilgan DataFrame `df` ikkita butun son ustuniga ega 'A' va 'B'. \"A\" dagi qiymatlar 1 dan 100 gacha (shu jumladan).\n",
        "\n",
        "“A” dagi har bir 10 ta ketma-ket butun sonlar guruhi uchun (ya’ni `(0, 10]`, `(10, 20]`, ...) 'B' ustunidagi mos qiymatlar yig'indisini hisoblang.\n",
        "\n",
        "Javob quyidagicha bo'lishi kerak:\n",
        "\n",
        "```\n",
        "A\n",
        "(0, 10]      635\n",
        "(10, 20]     360\n",
        "(20, 30]     315\n",
        "(30, 40]     306\n",
        "(40, 50]     750\n",
        "(50, 60]     284\n",
        "(60, 70]     424\n",
        "(70, 80]     526\n",
        "(80, 90]     835\n",
        "(90, 100]    852\n",
        "```"
      ],
      "metadata": {
        "id": "nkgP1SXKpGjU"
      }
    },
    {
      "cell_type": "code",
      "source": [
        "df = pd.DataFrame(np.random.RandomState(8765).randint(1, 101, size=(100, 2)), columns = [\"A\", \"B\"])\n",
        "\n",
        "# Javobni bu yerga yozing!"
      ],
      "metadata": {
        "id": "tHxtASQ4pR81"
      },
      "execution_count": null,
      "outputs": []
    },
    {
      "cell_type": "markdown",
      "source": [
        "**29.** 'X' butun son ustuni bo'lgan DataFrame:\n",
        "```python\n",
        "df = pd.DataFrame({'X': [7, 2, 0, 3, 4, 2, 5, 0, 3, 4]})\n",
        "```\n",
        "\n",
        "Har bir qiymat uchun farqni oldingi nolga qaytaring. \n",
        "\n",
        "Sizda natija quyidagicha bo'lishi kerak:\n",
        "\n",
        "```\n",
        "[1, 2, 0, 1, 2, 3, 4, 0, 1, 2]\n",
        "```\n",
        "\n",
        "Buni yangi `Y` ustuni deb nomlang."
      ],
      "metadata": {
        "id": "MtP9tml0pnS0"
      }
    },
    {
      "cell_type": "markdown",
      "source": [
        "##`📌Ma'lumotlarni tozalash`\n",
        "\n",
        "Bu har doim sodir bo'ladi: kimdir sizga noto'g'ri tuzilgan satrlar, ro'yxatlar va yetishmayotgan ma'lumotlarni o'z ichiga olgan ma'lumotlarni beradi. Tahlilni davom ettirish uchun uni qanday tartibga keltirasiz?\n",
        "\n",
        "**30.** Quyidagi jumboqni tasavvur qilishi uchun ushbu misolni DataFrame sifatida oling:\n",
        "\n",
        "```python\n",
        "df = pd.DataFrame({'From_To': ['LoNDon_paris', 'MAdrid_miLAN', 'londON_StockhOlm', \n",
        "                               'Budapest_PaRis', 'Brussels_londOn'],\n",
        "              'FlightNumber': [10045, np.nan, 10065, np.nan, 10085],\n",
        "              'RecentDelays': [[23, 47], [], [24, 43, 87], [13], [67, 32]],\n",
        "                   'Airline': ['KLM(!)', '<Air France> (12)', '(British Airways. )', \n",
        "                               '12. Air France', '\"Swiss Air\"']})\n",
        "```\n",
        "Tartiblaganingizdan so'ng u quyidagi ko'rinishga ega bo'lishi kerak:\n",
        "\n",
        "```\n",
        "            From_To  FlightNumber  RecentDelays              Airline\n",
        "0      LoNDon_paris       10045.0      [23, 47]               KLM(!)\n",
        "1      MAdrid_miLAN           NaN            []    <Air France> (12)\n",
        "2  londON_StockhOlm       10065.0  [24, 43, 87]  (British Airways. )\n",
        "3    Budapest_PaRis           NaN          [13]       12. Air France\n",
        "4   Brussels_londOn       10085.0      [67, 32]          \"Swiss Air\"\n",
        "```\n"
      ],
      "metadata": {
        "id": "OUGK14zuquvK"
      }
    },
    {
      "cell_type": "code",
      "source": [],
      "metadata": {
        "id": "_4tV79cjpEzP"
      },
      "execution_count": null,
      "outputs": []
    },
    {
      "cell_type": "markdown",
      "source": [
        "**31.** **FlightNumber** ustunidagi ba'zi qiymatlar yo'q. Ular `NaN` ko'rinishida yozilgan. Bu raqamlar har bir qatorda 10 ga ko'payishi kerak, shuning uchun 10055 va 10075 ni qo'yish kerak. Ushbu yetishmayotgan raqamlarni to'ldirish uchun `df` ni o'zgartiring va ustunni butun son ustuniga aylantiring."
      ],
      "metadata": {
        "id": "76jDh3Ggty8y"
      }
    },
    {
      "cell_type": "code",
      "source": [],
      "metadata": {
        "id": "jmKDfj71ut9W"
      },
      "execution_count": null,
      "outputs": []
    },
    {
      "cell_type": "markdown",
      "source": [
        "**32.** **From\\_To** ustunini ikkita alohida ustun ko'rinishida yozing.                                          \n",
        "\n",
        "To'g'ri qiymatlarga ega `temp` deb nomlangan yangi Temporary DataFrame berish uchun har bir satrni pastki chiziq chegarasiga ajrating.                                                                     Ushbu Temporary DataFrame ustunlarini `From` va `To` deb nomlang."
      ],
      "metadata": {
        "id": "1mJR50jltkDw"
      }
    },
    {
      "cell_type": "code",
      "source": [],
      "metadata": {
        "id": "ho-RISv_u5v4"
      },
      "execution_count": null,
      "outputs": []
    },
    {
      "cell_type": "markdown",
      "source": [
        "**34.** Temporary DataFrame `temp` da shahar nomlari betartib yozilgan.Satrlarning faqat birinchi harfi katta yozilishi kerak.\n",
        "                                                                         (Masalan, \"londON\" \"London\" bo'lishi kerak.)"
      ],
      "metadata": {
        "id": "unOVLLaV0ZKi"
      }
    },
    {
      "cell_type": "code",
      "source": [],
      "metadata": {
        "id": "x8NnJTBl0jSG"
      },
      "execution_count": null,
      "outputs": []
    },
    {
      "cell_type": "markdown",
      "source": [
        "**33**. `Airline` ustunida aviakompaniya nomlari atrofida qoʻshimcha tinish belgilari va belgilar paydo boʻlganini koʻrishingiz mumkin. Faqat aviakompaniya nomini qoldiring. Masalan, ʻ'(British Airways. )'' `British Airways` ko'rinishida yozilishi kerak."
      ],
      "metadata": {
        "id": "W1Aqi9MAycD2"
      }
    },
    {
      "cell_type": "code",
      "source": [],
      "metadata": {
        "id": "jPq5G_w0yb0A"
      },
      "execution_count": null,
      "outputs": []
    },
    {
      "cell_type": "markdown",
      "source": [
        "**34.** `df` dan **From_To** ustunini o'chiring va Temporary DataFrame `temp` ustunini qo'shing."
      ],
      "metadata": {
        "id": "h6Rg_axE1duO"
      }
    },
    {
      "cell_type": "code",
      "source": [],
      "metadata": {
        "id": "4RfmBvN11ZRc"
      },
      "execution_count": null,
      "outputs": []
    },
    {
      "cell_type": "markdown",
      "source": [
        "**34**. `RecentDelays` ustunida qiymatlar DataFrame-ga ro'yxat sifatida kiritilgan. Sizning vazifangiz birinchi qiymatni o'z ustunida, har bir ikkinchi qiymatni o'z ustunida va qolgan qiymatlar ham ustunga mos holda chop etish. Agar N-chi qiymat bo'lmasa, qiymat `NaN` deb nomlanishi kerak.\n",
        "\n",
        "Roʻyxatlar qatorini `delays` nomli DataFrame ichiga kengaytiring, `delay_1`, `delay_2` va qolgan ustunlarni ham nomlarini oʻzgartiring va `df` dagi keraksiz `RecentDelays` ustunini `delays` bilan almashtiring."
      ],
      "metadata": {
        "id": "bib5zzhTy6dQ"
      }
    },
    {
      "cell_type": "code",
      "source": [],
      "metadata": {
        "id": "35_NAl6az-DQ"
      },
      "execution_count": null,
      "outputs": []
    },
    {
      "cell_type": "markdown",
      "source": [
        "Natija quyidagi ko'rinishda bo'lishi kerak:\n",
        "```\n",
        "   FlightNumber          Airline      From         To  delay_1  delay_2  delay_3\n",
        "0         10045              KLM    London      Paris     23.0     47.0      NaN\n",
        "1         10055       Air France    Madrid      Milan      NaN      NaN      NaN\n",
        "2         10065  British Airways    London  Stockholm     24.0     43.0     87.0\n",
        "3         10075       Air France  Budapest      Paris     13.0      NaN      NaN\n",
        "4         10085        Swiss Air  Brussels     London     67.0     32.0      NaN\n",
        "```"
      ],
      "metadata": {
        "id": "zerG3ZoL2KFV"
      }
    },
    {
      "cell_type": "code",
      "source": [],
      "metadata": {
        "id": "W5dp_3rz2KlZ"
      },
      "execution_count": null,
      "outputs": []
    },
    {
      "cell_type": "markdown",
      "source": [
        "##`📌Minesweeper`\n",
        "\n",
        "\n",
        "### Minesweeper tarmog'ida xavfsiz kvadratlar uchun raqamlar yaratamiz!\n",
        "\n",
        "💡 Agar siz Windowsning avvalgi versiyalaridan foydalangan bo'lsangiz, Minesweeper bilan tanishsiz:\n",
        "- https://en.wikipedia.org/wiki/Minesweeper_(video_game)"
      ],
      "metadata": {
        "id": "9ttYwM1C2oJ-"
      }
    },
    {
      "cell_type": "markdown",
      "source": [
        "Agar siz o'yin bilan tanish bo'lmasangiz, kvadratchalar to'plamini tasavvur qiling: bu kvadratlarning ba'zilari mineni yashiradi. Agar siz mineni bossangiz, darhol yo'qotasiz. Agar siz xavfsiz kvadratni bossangiz, darhol qo'shni bo'lgan kvadratchalarda qancha mine borligini ko'rsatadigan raqamni ko'rasiz. O'yinning maqsadi to'rdagi mine bo'lmagan barcha kvadratlarni ochishdir.\n",
        "\n",
        "Ushbu bo'limda biz Minesweeper o'yini uchun kerakli ma'lumotlarni o'z ichiga olgan DataFrame yaratamiz: kvadratlarning koordinatalari, kvadratda mine bormi va qo'shni kvadratlarda topilgan minelar sonini aniqlaymiz!"
      ],
      "metadata": {
        "id": "Z89Uhm534sVG"
      }
    },
    {
      "cell_type": "markdown",
      "source": [
        "**35**. Tasavvur qiling, biz Minesweeper o'yinini 5 dan 4 gacha bo'lgan panjarada o'ynayapmiz, ya'ni.\n",
        "```\n",
        "X = 5\n",
        "Y = 4\n",
        "```\n",
        "Boshlash uchun ikkita ustunli DataFrame `df` yarating, bu tarmoq uchun har bir koordinatani o'z ichiga olgan `'x'` va `'y'`. Ya'ni DataFrame ishga tushishi kerak:\n",
        "```\n",
        "    x y\n",
        "0 0 0\n",
        "1 0 1\n",
        "2 0 2\n",
        "```"
      ],
      "metadata": {
        "id": "JpyOTDSD5AtG"
      }
    },
    {
      "cell_type": "code",
      "source": [],
      "metadata": {
        "id": "bhQRTflC2t4t"
      },
      "execution_count": null,
      "outputs": []
    },
    {
      "cell_type": "markdown",
      "source": [
        "**36**. Ushbu DataFrame `df` uchun yangi nol (safe) va birliklar (mine) ustunini yarating. Har bir joyda mine sodir bo'lish ehtimoli 0,4 bo'lishi kerak."
      ],
      "metadata": {
        "id": "D1-3t7ue5b-2"
      }
    },
    {
      "cell_type": "code",
      "source": [],
      "metadata": {
        "id": "TJeonP5E5n2u"
      },
      "execution_count": null,
      "outputs": []
    },
    {
      "cell_type": "markdown",
      "source": [
        "**37**. Endi ushbu DataFrame uchun `adjacent` nomli yangi ustun yarating. Ushbu ustunda tarmoqdagi qo'shni kvadratlarda topilgan minelar soni bo'lishi kerak.\n",
        "\n",
        "(Masalan, `(0, 0)` koordinatasi uchun yozuv bo'lgan birinchi qator uchun `(0, 1)`, `(1, 0)` va `(1) koordinatalarida qancha mine borligini hisoblang. , 1)`.)"
      ],
      "metadata": {
        "id": "XId_lWGn5vaI"
      }
    },
    {
      "cell_type": "code",
      "source": [],
      "metadata": {
        "id": "N5ANTKJ95vAO"
      },
      "execution_count": null,
      "outputs": []
    },
    {
      "cell_type": "markdown",
      "source": [
        "**38**. Mineni o'z ichiga olgan DataFrame qatorlari uchun `adjacent` ustunidagi qiymatni `NaN` ga o'zgartiring."
      ],
      "metadata": {
        "id": "t0c0y_aE6NZ5"
      }
    },
    {
      "cell_type": "code",
      "source": [],
      "metadata": {
        "id": "fW_V4Ff76aMK"
      },
      "execution_count": null,
      "outputs": []
    },
    {
      "cell_type": "markdown",
      "source": [
        "**39**. DataFrame-ni `adjacent` minelar sonining panjarasiga aylantiring: ustunlar `x` koordinatasi, qatorlar `y` koordinatasi."
      ],
      "metadata": {
        "id": "biBYkX_36edb"
      }
    },
    {
      "cell_type": "code",
      "source": [],
      "metadata": {
        "id": "vmfn_Tra6x24"
      },
      "execution_count": null,
      "outputs": []
    },
    {
      "cell_type": "markdown",
      "source": [
        "##📌BONUS!\n",
        "\n",
        "O'zingiz javob berishni istagan savolni kiriting va unga javob bering!"
      ],
      "metadata": {
        "id": "kc7t7KCw6061"
      }
    },
    {
      "cell_type": "code",
      "source": [],
      "metadata": {
        "id": "LICHEONU60hs"
      },
      "execution_count": null,
      "outputs": []
    }
  ]
}