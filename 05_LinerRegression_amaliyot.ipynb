{
  "cells": [
    {
      "cell_type": "markdown",
      "metadata": {
        "id": "view-in-github",
        "colab_type": "text"
      },
      "source": [
        "<a href=\"https://colab.research.google.com/github/behzcd/Data-Science-and-AI/blob/main/05_LinerRegression_amaliyot.ipynb\" target=\"_parent\"><img src=\"https://colab.research.google.com/assets/colab-badge.svg\" alt=\"Open In Colab\"/></a>"
      ]
    },
    {
      "cell_type": "markdown",
      "id": "7154cc0a-aa4d-43f5-b1ef-40bc4aecf369",
      "metadata": {
        "id": "7154cc0a-aa4d-43f5-b1ef-40bc4aecf369"
      },
      "source": [
        "![Imgur](https://i.imgur.com/5pXzCIu.png)\n",
        "\n",
        "# Data Science va Sun'iy Intellekt Praktikum\n",
        "\n",
        "## 5-MODUL. Machine Learning. \n",
        "\n",
        "### Linear Regression"
      ]
    },
    {
      "cell_type": "code",
      "execution_count": 1,
      "id": "84bfdab2-9d2d-450e-8490-1ab72e912abf",
      "metadata": {
        "colab": {
          "base_uri": "https://localhost:8080/",
          "height": 362
        },
        "id": "84bfdab2-9d2d-450e-8490-1ab72e912abf",
        "outputId": "0bbb7d76-3da8-4cbb-cee4-dac32ec5fe30"
      },
      "outputs": [
        {
          "output_type": "execute_result",
          "data": {
            "text/plain": [
              "        district  rooms  size  level  max_levels    price\n",
              "0   Юнусабадский      3  57.0      4           4  52000.0\n",
              "1  Яккасарайский      2  52.0      4           5  56000.0\n",
              "2   Чиланзарский      2  42.0      4           4  37000.0\n",
              "3   Чиланзарский      3  65.0      1           4  49500.0\n",
              "4   Чиланзарский      3  70.0      3           5  55000.0\n",
              "5   Чиланзарский      1  28.0      1           4  25500.0\n",
              "6   Чиланзарский      1  30.0      2           4  21200.0\n",
              "7  Яккасарайский      2  32.0      5           5  20000.0\n",
              "8    Учтепинский      2  51.0      3           4  26200.0\n",
              "9   Чиланзарский      1  30.0      1           4  22200.0"
            ],
            "text/html": [
              "\n",
              "  <div id=\"df-ceb02739-bfb4-43e0-8b1f-f1a795abdb56\">\n",
              "    <div class=\"colab-df-container\">\n",
              "      <div>\n",
              "<style scoped>\n",
              "    .dataframe tbody tr th:only-of-type {\n",
              "        vertical-align: middle;\n",
              "    }\n",
              "\n",
              "    .dataframe tbody tr th {\n",
              "        vertical-align: top;\n",
              "    }\n",
              "\n",
              "    .dataframe thead th {\n",
              "        text-align: right;\n",
              "    }\n",
              "</style>\n",
              "<table border=\"1\" class=\"dataframe\">\n",
              "  <thead>\n",
              "    <tr style=\"text-align: right;\">\n",
              "      <th></th>\n",
              "      <th>district</th>\n",
              "      <th>rooms</th>\n",
              "      <th>size</th>\n",
              "      <th>level</th>\n",
              "      <th>max_levels</th>\n",
              "      <th>price</th>\n",
              "    </tr>\n",
              "  </thead>\n",
              "  <tbody>\n",
              "    <tr>\n",
              "      <th>0</th>\n",
              "      <td>Юнусабадский</td>\n",
              "      <td>3</td>\n",
              "      <td>57.0</td>\n",
              "      <td>4</td>\n",
              "      <td>4</td>\n",
              "      <td>52000.0</td>\n",
              "    </tr>\n",
              "    <tr>\n",
              "      <th>1</th>\n",
              "      <td>Яккасарайский</td>\n",
              "      <td>2</td>\n",
              "      <td>52.0</td>\n",
              "      <td>4</td>\n",
              "      <td>5</td>\n",
              "      <td>56000.0</td>\n",
              "    </tr>\n",
              "    <tr>\n",
              "      <th>2</th>\n",
              "      <td>Чиланзарский</td>\n",
              "      <td>2</td>\n",
              "      <td>42.0</td>\n",
              "      <td>4</td>\n",
              "      <td>4</td>\n",
              "      <td>37000.0</td>\n",
              "    </tr>\n",
              "    <tr>\n",
              "      <th>3</th>\n",
              "      <td>Чиланзарский</td>\n",
              "      <td>3</td>\n",
              "      <td>65.0</td>\n",
              "      <td>1</td>\n",
              "      <td>4</td>\n",
              "      <td>49500.0</td>\n",
              "    </tr>\n",
              "    <tr>\n",
              "      <th>4</th>\n",
              "      <td>Чиланзарский</td>\n",
              "      <td>3</td>\n",
              "      <td>70.0</td>\n",
              "      <td>3</td>\n",
              "      <td>5</td>\n",
              "      <td>55000.0</td>\n",
              "    </tr>\n",
              "    <tr>\n",
              "      <th>5</th>\n",
              "      <td>Чиланзарский</td>\n",
              "      <td>1</td>\n",
              "      <td>28.0</td>\n",
              "      <td>1</td>\n",
              "      <td>4</td>\n",
              "      <td>25500.0</td>\n",
              "    </tr>\n",
              "    <tr>\n",
              "      <th>6</th>\n",
              "      <td>Чиланзарский</td>\n",
              "      <td>1</td>\n",
              "      <td>30.0</td>\n",
              "      <td>2</td>\n",
              "      <td>4</td>\n",
              "      <td>21200.0</td>\n",
              "    </tr>\n",
              "    <tr>\n",
              "      <th>7</th>\n",
              "      <td>Яккасарайский</td>\n",
              "      <td>2</td>\n",
              "      <td>32.0</td>\n",
              "      <td>5</td>\n",
              "      <td>5</td>\n",
              "      <td>20000.0</td>\n",
              "    </tr>\n",
              "    <tr>\n",
              "      <th>8</th>\n",
              "      <td>Учтепинский</td>\n",
              "      <td>2</td>\n",
              "      <td>51.0</td>\n",
              "      <td>3</td>\n",
              "      <td>4</td>\n",
              "      <td>26200.0</td>\n",
              "    </tr>\n",
              "    <tr>\n",
              "      <th>9</th>\n",
              "      <td>Чиланзарский</td>\n",
              "      <td>1</td>\n",
              "      <td>30.0</td>\n",
              "      <td>1</td>\n",
              "      <td>4</td>\n",
              "      <td>22200.0</td>\n",
              "    </tr>\n",
              "  </tbody>\n",
              "</table>\n",
              "</div>\n",
              "      <button class=\"colab-df-convert\" onclick=\"convertToInteractive('df-ceb02739-bfb4-43e0-8b1f-f1a795abdb56')\"\n",
              "              title=\"Convert this dataframe to an interactive table.\"\n",
              "              style=\"display:none;\">\n",
              "        \n",
              "  <svg xmlns=\"http://www.w3.org/2000/svg\" height=\"24px\"viewBox=\"0 0 24 24\"\n",
              "       width=\"24px\">\n",
              "    <path d=\"M0 0h24v24H0V0z\" fill=\"none\"/>\n",
              "    <path d=\"M18.56 5.44l.94 2.06.94-2.06 2.06-.94-2.06-.94-.94-2.06-.94 2.06-2.06.94zm-11 1L8.5 8.5l.94-2.06 2.06-.94-2.06-.94L8.5 2.5l-.94 2.06-2.06.94zm10 10l.94 2.06.94-2.06 2.06-.94-2.06-.94-.94-2.06-.94 2.06-2.06.94z\"/><path d=\"M17.41 7.96l-1.37-1.37c-.4-.4-.92-.59-1.43-.59-.52 0-1.04.2-1.43.59L10.3 9.45l-7.72 7.72c-.78.78-.78 2.05 0 2.83L4 21.41c.39.39.9.59 1.41.59.51 0 1.02-.2 1.41-.59l7.78-7.78 2.81-2.81c.8-.78.8-2.07 0-2.86zM5.41 20L4 18.59l7.72-7.72 1.47 1.35L5.41 20z\"/>\n",
              "  </svg>\n",
              "      </button>\n",
              "      \n",
              "  <style>\n",
              "    .colab-df-container {\n",
              "      display:flex;\n",
              "      flex-wrap:wrap;\n",
              "      gap: 12px;\n",
              "    }\n",
              "\n",
              "    .colab-df-convert {\n",
              "      background-color: #E8F0FE;\n",
              "      border: none;\n",
              "      border-radius: 50%;\n",
              "      cursor: pointer;\n",
              "      display: none;\n",
              "      fill: #1967D2;\n",
              "      height: 32px;\n",
              "      padding: 0 0 0 0;\n",
              "      width: 32px;\n",
              "    }\n",
              "\n",
              "    .colab-df-convert:hover {\n",
              "      background-color: #E2EBFA;\n",
              "      box-shadow: 0px 1px 2px rgba(60, 64, 67, 0.3), 0px 1px 3px 1px rgba(60, 64, 67, 0.15);\n",
              "      fill: #174EA6;\n",
              "    }\n",
              "\n",
              "    [theme=dark] .colab-df-convert {\n",
              "      background-color: #3B4455;\n",
              "      fill: #D2E3FC;\n",
              "    }\n",
              "\n",
              "    [theme=dark] .colab-df-convert:hover {\n",
              "      background-color: #434B5C;\n",
              "      box-shadow: 0px 1px 3px 1px rgba(0, 0, 0, 0.15);\n",
              "      filter: drop-shadow(0px 1px 2px rgba(0, 0, 0, 0.3));\n",
              "      fill: #FFFFFF;\n",
              "    }\n",
              "  </style>\n",
              "\n",
              "      <script>\n",
              "        const buttonEl =\n",
              "          document.querySelector('#df-ceb02739-bfb4-43e0-8b1f-f1a795abdb56 button.colab-df-convert');\n",
              "        buttonEl.style.display =\n",
              "          google.colab.kernel.accessAllowed ? 'block' : 'none';\n",
              "\n",
              "        async function convertToInteractive(key) {\n",
              "          const element = document.querySelector('#df-ceb02739-bfb4-43e0-8b1f-f1a795abdb56');\n",
              "          const dataTable =\n",
              "            await google.colab.kernel.invokeFunction('convertToInteractive',\n",
              "                                                     [key], {});\n",
              "          if (!dataTable) return;\n",
              "\n",
              "          const docLinkHtml = 'Like what you see? Visit the ' +\n",
              "            '<a target=\"_blank\" href=https://colab.research.google.com/notebooks/data_table.ipynb>data table notebook</a>'\n",
              "            + ' to learn more about interactive tables.';\n",
              "          element.innerHTML = '';\n",
              "          dataTable['output_type'] = 'display_data';\n",
              "          await google.colab.output.renderOutput(dataTable, element);\n",
              "          const docLink = document.createElement('div');\n",
              "          docLink.innerHTML = docLinkHtml;\n",
              "          element.appendChild(docLink);\n",
              "        }\n",
              "      </script>\n",
              "    </div>\n",
              "  </div>\n",
              "  "
            ]
          },
          "metadata": {},
          "execution_count": 1
        }
      ],
      "source": [
        "import pandas as pd\n",
        "df = pd.read_csv('https://raw.githubusercontent.com/anvarnarz/praktikum_datasets/main/housing_LR.csv', index_col=0)\n",
        "df.head(10)"
      ]
    },
    {
      "cell_type": "markdown",
      "id": "cd004a7d-846f-4f4a-9a4c-9d5ce65ba3e9",
      "metadata": {
        "id": "cd004a7d-846f-4f4a-9a4c-9d5ce65ba3e9"
      },
      "source": [
        "# Ustunlar ta'rifi\n",
        "- `location` - sotilayotgan uy manzili\n",
        "- `district` - uy joylashgan tuman\n",
        "- `rooms` - xonalar soni\n",
        "- `size` - uy maydoni (kv.m)\n",
        "- `level` - uy"
      ]
    },
    {
      "cell_type": "code",
      "execution_count": 2,
      "id": "fdfd182e-e0fd-412d-98c9-d8fb3d76833c",
      "metadata": {
        "colab": {
          "base_uri": "https://localhost:8080/"
        },
        "id": "fdfd182e-e0fd-412d-98c9-d8fb3d76833c",
        "outputId": "1849448a-bb5f-4099-bfd4-3e6b29d5a7fc"
      },
      "outputs": [
        {
          "output_type": "execute_result",
          "data": {
            "text/plain": [
              "Чиланзарский         1616\n",
              "Мирзо-Улугбекский    1342\n",
              "Учтепинский           872\n",
              "Юнусабадский          847\n",
              "Мирабадский           717\n",
              "Яккасарайский         628\n",
              "Яшнободский           456\n",
              "Шайхантахурский       356\n",
              "Олмазорский           262\n",
              "Сергелийский          159\n",
              "Янгихаётский           15\n",
              "Бектемирский            8\n",
              "Name: district, dtype: int64"
            ]
          },
          "metadata": {},
          "execution_count": 2
        }
      ],
      "source": [
        "df['district'].value_counts()"
      ]
    },
    {
      "cell_type": "markdown",
      "id": "a0811ab4-f241-4214-87a1-df3ae02cd6c5",
      "metadata": {
        "id": "a0811ab4-f241-4214-87a1-df3ae02cd6c5"
      },
      "source": [
        "**Darsimiz uchun Chilonzor tumanidagi uylarning narxini bashorat qilib ko'ramiz**"
      ]
    },
    {
      "cell_type": "code",
      "execution_count": 3,
      "id": "c54fde41-aead-4e9c-948b-5765763ee60f",
      "metadata": {
        "colab": {
          "base_uri": "https://localhost:8080/",
          "height": 206
        },
        "id": "c54fde41-aead-4e9c-948b-5765763ee60f",
        "outputId": "cf66e9fe-fde8-4d03-b50e-239de5305589"
      },
      "outputs": [
        {
          "output_type": "execute_result",
          "data": {
            "text/plain": [
              "       district  rooms  size  level  max_levels    price\n",
              "2  Чиланзарский      2  42.0      4           4  37000.0\n",
              "3  Чиланзарский      3  65.0      1           4  49500.0\n",
              "4  Чиланзарский      3  70.0      3           5  55000.0\n",
              "5  Чиланзарский      1  28.0      1           4  25500.0\n",
              "6  Чиланзарский      1  30.0      2           4  21200.0"
            ],
            "text/html": [
              "\n",
              "  <div id=\"df-44dcbe68-5420-4405-b283-52c7a21af848\">\n",
              "    <div class=\"colab-df-container\">\n",
              "      <div>\n",
              "<style scoped>\n",
              "    .dataframe tbody tr th:only-of-type {\n",
              "        vertical-align: middle;\n",
              "    }\n",
              "\n",
              "    .dataframe tbody tr th {\n",
              "        vertical-align: top;\n",
              "    }\n",
              "\n",
              "    .dataframe thead th {\n",
              "        text-align: right;\n",
              "    }\n",
              "</style>\n",
              "<table border=\"1\" class=\"dataframe\">\n",
              "  <thead>\n",
              "    <tr style=\"text-align: right;\">\n",
              "      <th></th>\n",
              "      <th>district</th>\n",
              "      <th>rooms</th>\n",
              "      <th>size</th>\n",
              "      <th>level</th>\n",
              "      <th>max_levels</th>\n",
              "      <th>price</th>\n",
              "    </tr>\n",
              "  </thead>\n",
              "  <tbody>\n",
              "    <tr>\n",
              "      <th>2</th>\n",
              "      <td>Чиланзарский</td>\n",
              "      <td>2</td>\n",
              "      <td>42.0</td>\n",
              "      <td>4</td>\n",
              "      <td>4</td>\n",
              "      <td>37000.0</td>\n",
              "    </tr>\n",
              "    <tr>\n",
              "      <th>3</th>\n",
              "      <td>Чиланзарский</td>\n",
              "      <td>3</td>\n",
              "      <td>65.0</td>\n",
              "      <td>1</td>\n",
              "      <td>4</td>\n",
              "      <td>49500.0</td>\n",
              "    </tr>\n",
              "    <tr>\n",
              "      <th>4</th>\n",
              "      <td>Чиланзарский</td>\n",
              "      <td>3</td>\n",
              "      <td>70.0</td>\n",
              "      <td>3</td>\n",
              "      <td>5</td>\n",
              "      <td>55000.0</td>\n",
              "    </tr>\n",
              "    <tr>\n",
              "      <th>5</th>\n",
              "      <td>Чиланзарский</td>\n",
              "      <td>1</td>\n",
              "      <td>28.0</td>\n",
              "      <td>1</td>\n",
              "      <td>4</td>\n",
              "      <td>25500.0</td>\n",
              "    </tr>\n",
              "    <tr>\n",
              "      <th>6</th>\n",
              "      <td>Чиланзарский</td>\n",
              "      <td>1</td>\n",
              "      <td>30.0</td>\n",
              "      <td>2</td>\n",
              "      <td>4</td>\n",
              "      <td>21200.0</td>\n",
              "    </tr>\n",
              "  </tbody>\n",
              "</table>\n",
              "</div>\n",
              "      <button class=\"colab-df-convert\" onclick=\"convertToInteractive('df-44dcbe68-5420-4405-b283-52c7a21af848')\"\n",
              "              title=\"Convert this dataframe to an interactive table.\"\n",
              "              style=\"display:none;\">\n",
              "        \n",
              "  <svg xmlns=\"http://www.w3.org/2000/svg\" height=\"24px\"viewBox=\"0 0 24 24\"\n",
              "       width=\"24px\">\n",
              "    <path d=\"M0 0h24v24H0V0z\" fill=\"none\"/>\n",
              "    <path d=\"M18.56 5.44l.94 2.06.94-2.06 2.06-.94-2.06-.94-.94-2.06-.94 2.06-2.06.94zm-11 1L8.5 8.5l.94-2.06 2.06-.94-2.06-.94L8.5 2.5l-.94 2.06-2.06.94zm10 10l.94 2.06.94-2.06 2.06-.94-2.06-.94-.94-2.06-.94 2.06-2.06.94z\"/><path d=\"M17.41 7.96l-1.37-1.37c-.4-.4-.92-.59-1.43-.59-.52 0-1.04.2-1.43.59L10.3 9.45l-7.72 7.72c-.78.78-.78 2.05 0 2.83L4 21.41c.39.39.9.59 1.41.59.51 0 1.02-.2 1.41-.59l7.78-7.78 2.81-2.81c.8-.78.8-2.07 0-2.86zM5.41 20L4 18.59l7.72-7.72 1.47 1.35L5.41 20z\"/>\n",
              "  </svg>\n",
              "      </button>\n",
              "      \n",
              "  <style>\n",
              "    .colab-df-container {\n",
              "      display:flex;\n",
              "      flex-wrap:wrap;\n",
              "      gap: 12px;\n",
              "    }\n",
              "\n",
              "    .colab-df-convert {\n",
              "      background-color: #E8F0FE;\n",
              "      border: none;\n",
              "      border-radius: 50%;\n",
              "      cursor: pointer;\n",
              "      display: none;\n",
              "      fill: #1967D2;\n",
              "      height: 32px;\n",
              "      padding: 0 0 0 0;\n",
              "      width: 32px;\n",
              "    }\n",
              "\n",
              "    .colab-df-convert:hover {\n",
              "      background-color: #E2EBFA;\n",
              "      box-shadow: 0px 1px 2px rgba(60, 64, 67, 0.3), 0px 1px 3px 1px rgba(60, 64, 67, 0.15);\n",
              "      fill: #174EA6;\n",
              "    }\n",
              "\n",
              "    [theme=dark] .colab-df-convert {\n",
              "      background-color: #3B4455;\n",
              "      fill: #D2E3FC;\n",
              "    }\n",
              "\n",
              "    [theme=dark] .colab-df-convert:hover {\n",
              "      background-color: #434B5C;\n",
              "      box-shadow: 0px 1px 3px 1px rgba(0, 0, 0, 0.15);\n",
              "      filter: drop-shadow(0px 1px 2px rgba(0, 0, 0, 0.3));\n",
              "      fill: #FFFFFF;\n",
              "    }\n",
              "  </style>\n",
              "\n",
              "      <script>\n",
              "        const buttonEl =\n",
              "          document.querySelector('#df-44dcbe68-5420-4405-b283-52c7a21af848 button.colab-df-convert');\n",
              "        buttonEl.style.display =\n",
              "          google.colab.kernel.accessAllowed ? 'block' : 'none';\n",
              "\n",
              "        async function convertToInteractive(key) {\n",
              "          const element = document.querySelector('#df-44dcbe68-5420-4405-b283-52c7a21af848');\n",
              "          const dataTable =\n",
              "            await google.colab.kernel.invokeFunction('convertToInteractive',\n",
              "                                                     [key], {});\n",
              "          if (!dataTable) return;\n",
              "\n",
              "          const docLinkHtml = 'Like what you see? Visit the ' +\n",
              "            '<a target=\"_blank\" href=https://colab.research.google.com/notebooks/data_table.ipynb>data table notebook</a>'\n",
              "            + ' to learn more about interactive tables.';\n",
              "          element.innerHTML = '';\n",
              "          dataTable['output_type'] = 'display_data';\n",
              "          await google.colab.output.renderOutput(dataTable, element);\n",
              "          const docLink = document.createElement('div');\n",
              "          docLink.innerHTML = docLinkHtml;\n",
              "          element.appendChild(docLink);\n",
              "        }\n",
              "      </script>\n",
              "    </div>\n",
              "  </div>\n",
              "  "
            ]
          },
          "metadata": {},
          "execution_count": 3
        }
      ],
      "source": [
        "housing = df[df.district=='Чиланзарский']\n",
        "housing.head()"
      ]
    },
    {
      "cell_type": "code",
      "execution_count": 4,
      "id": "f65fd3c7-fea1-4e62-b514-8962e7b8e7ce",
      "metadata": {
        "colab": {
          "base_uri": "https://localhost:8080/"
        },
        "id": "f65fd3c7-fea1-4e62-b514-8962e7b8e7ce",
        "outputId": "c3986e5a-cf93-4e47-8590-f8b0f98cac96"
      },
      "outputs": [
        {
          "output_type": "execute_result",
          "data": {
            "text/plain": [
              "2       42.0\n",
              "3       65.0\n",
              "4       70.0\n",
              "5       28.0\n",
              "6       30.0\n",
              "        ... \n",
              "7404    70.0\n",
              "7422    20.0\n",
              "7433    32.0\n",
              "7445    70.0\n",
              "7464    30.0\n",
              "Name: size, Length: 1616, dtype: float64"
            ]
          },
          "metadata": {},
          "execution_count": 4
        }
      ],
      "source": [
        "x = housing['size']\n",
        "x"
      ]
    },
    {
      "cell_type": "code",
      "execution_count": 5,
      "id": "94126c82-8be2-4b98-bbe6-4ae49934aa9f",
      "metadata": {
        "colab": {
          "base_uri": "https://localhost:8080/"
        },
        "id": "94126c82-8be2-4b98-bbe6-4ae49934aa9f",
        "outputId": "dca9a977-21f9-42db-ef2a-c1a999cb305b"
      },
      "outputs": [
        {
          "output_type": "execute_result",
          "data": {
            "text/plain": [
              "2       37000.0\n",
              "3       49500.0\n",
              "4       55000.0\n",
              "5       25500.0\n",
              "6       21200.0\n",
              "         ...   \n",
              "7404    48000.0\n",
              "7422    18500.0\n",
              "7433    28000.0\n",
              "7445    49800.0\n",
              "7464    22914.0\n",
              "Name: price, Length: 1616, dtype: float64"
            ]
          },
          "metadata": {},
          "execution_count": 5
        }
      ],
      "source": [
        "y = housing['price']\n",
        "y"
      ]
    },
    {
      "cell_type": "markdown",
      "id": "7bcc2e9e-cd49-429e-9edc-62b42bcf52b3",
      "metadata": {
        "id": "7bcc2e9e-cd49-429e-9edc-62b42bcf52b3"
      },
      "source": [
        "**Narx va uy maydoni o'rtasida chiziqli bog'liqlik bor ekanini tekshirib ko'ramiz.**"
      ]
    },
    {
      "cell_type": "code",
      "execution_count": 6,
      "id": "7b447da1-3715-4c21-bc65-02ce3ee226c1",
      "metadata": {
        "id": "7b447da1-3715-4c21-bc65-02ce3ee226c1"
      },
      "outputs": [],
      "source": [
        "import matplotlib.pyplot as plt\n",
        "import seaborn as sns\n",
        "%matplotlib inline"
      ]
    },
    {
      "cell_type": "code",
      "execution_count": 7,
      "id": "b3892c14-8b0a-40a3-bf96-487408787386",
      "metadata": {
        "colab": {
          "base_uri": "https://localhost:8080/",
          "height": 388
        },
        "id": "b3892c14-8b0a-40a3-bf96-487408787386",
        "outputId": "5e10464e-720c-49c6-b4a0-1d0e9fc041d7"
      },
      "outputs": [
        {
          "output_type": "display_data",
          "data": {
            "text/plain": [
              "<Figure size 720x432 with 1 Axes>"
            ],
            "image/png": "[encoded data removed]"
          },
          "metadata": {
            "needs_background": "light"
          }
        }
      ],
      "source": [
        "plt.figure(figsize=(10,6))\n",
        "sns.scatterplot(data=housing, x='size', y='price')\n",
        "plt.show()"
      ]
    },
    {
      "cell_type": "code",
      "execution_count": 8,
      "id": "36b7afbb-4e03-4c34-ac86-de677141afc1",
      "metadata": {
        "colab": {
          "base_uri": "https://localhost:8080/",
          "height": 388
        },
        "id": "36b7afbb-4e03-4c34-ac86-de677141afc1",
        "outputId": "c6c906f4-588b-4c06-89aa-646b1a47718e"
      },
      "outputs": [
        {
          "output_type": "display_data",
          "data": {
            "text/plain": [
              "<Figure size 720x432 with 1 Axes>"
            ],
            "image/png": "[encoded data removed]"
          },
          "metadata": {
            "needs_background": "light"
          }
        }
      ],
      "source": [
        "plt.figure(figsize=(10,6))\n",
        "sns.regplot(data=housing, x='size', y='price', line_kws={\"color\": \"red\"})\n",
        "plt.show()"
      ]
    },
    {
      "cell_type": "markdown",
      "id": "8654473f-7b86-4bfb-8ff0-ad10099f472e",
      "metadata": {
        "id": "8654473f-7b86-4bfb-8ff0-ad10099f472e"
      },
      "source": [
        "## 1-Vazifa\n",
        "Sizning vazifangiz yuqoridagi `X` va `y` o'zgaruvchilardan quyidagi formuladan foydalangan xolda $\\theta_0$ va $\\theta_1$ koeffisientlarni hisoblash.\n",
        "\n",
        "![Imgur](https://i.imgur.com/zZoXZxI.png)\n",
        "\n",
        "Bu yerda $\\tilde{x}$ - `X` ustun uchun o'rtracha qiymat,  $\\tilde{y}$ - `y` ustun uchun o'rtracha qiymat"
      ]
    },
    {
      "cell_type": "code",
      "source": [
        "x_mean = x.mean()\n",
        "y_mean = y.mean()\n",
        "\n",
        "aboves = []\n",
        "belowes = []\n",
        "range = x.index\n",
        "\n",
        "for i in range:\n",
        "  aboves = []\n",
        "  belowes = []\n",
        "  above = (x[i]-x_mean)*(y[i]-y_mean)\n",
        "  aboves.append(above)\n",
        "  below = (x[i]-x_mean)**2\n",
        "  belowes.append(below)\n",
        "coef1 = sum(aboves)/sum(belowes)\n",
        "coef0 = y_mean-(coef1*x_mean)\n",
        "coef0"
      ],
      "metadata": {
        "id": "PbwQe1U_HDJv",
        "outputId": "da52df9c-f01b-4963-8f9f-b9d661caed0a",
        "colab": {
          "base_uri": "https://localhost:8080/"
        }
      },
      "id": "PbwQe1U_HDJv",
      "execution_count": 9,
      "outputs": [
        {
          "output_type": "execute_result",
          "data": {
            "text/plain": [
              "1567.9999759517814"
            ]
          },
          "metadata": {},
          "execution_count": 9
        }
      ]
    },
    {
      "cell_type": "markdown",
      "id": "72486449-3955-4d88-9c2a-0f893a2aa6b5",
      "metadata": {
        "id": "72486449-3955-4d88-9c2a-0f893a2aa6b5"
      },
      "source": [
        "## 2-Vazifa\n",
        "`X` dan bir nechta tasodifiy qiymatlarni ajratib oling va ularga mos keluvchi `y` ni yuqoridagi koeffisientlar yordamida hisoblab ko'ring.\n",
        "\n",
        "![Imgur](https://i.imgur.com/iT5tffj.png)"
      ]
    },
    {
      "cell_type": "code",
      "source": [
        "idx = [7013, 416, 5644, 6714, 6899]\n",
        "guess = []\n",
        "for ix in idx:\n",
        "  g = coef0 + (coef1*x[ix])\n",
        "  guess.append(g)\n",
        "\n",
        "guess"
      ],
      "metadata": {
        "id": "PnYkWqrEHK1W",
        "outputId": "848bf316-d1e7-4828-fb93-6ecfb900d188",
        "colab": {
          "base_uri": "https://localhost:8080/"
        }
      },
      "id": "PnYkWqrEHK1W",
      "execution_count": 10,
      "outputs": [
        {
          "output_type": "execute_result",
          "data": {
            "text/plain": [
              "[37144.66668269882,\n",
              " 44260.000024048226,\n",
              " 40702.33335337353,\n",
              " 49952.26669712776,\n",
              " 31452.400009619294]"
            ]
          },
          "metadata": {},
          "execution_count": 10
        }
      ]
    },
    {
      "cell_type": "code",
      "source": [
        "real = list(y[[7013, 416, 5644, 6714, 6899]])\n",
        "real"
      ],
      "metadata": {
        "id": "itRwzrgXHN0m",
        "outputId": "6a5fe099-c046-4f8e-be7f-6bc0f154269f",
        "colab": {
          "base_uri": "https://localhost:8080/"
        }
      },
      "id": "itRwzrgXHN0m",
      "execution_count": 11,
      "outputs": [
        {
          "output_type": "execute_result",
          "data": {
            "text/plain": [
              "[35500.0, 41500.0, 54000.0, 44000.0, 40000.0]"
            ]
          },
          "metadata": {},
          "execution_count": 11
        }
      ]
    },
    {
      "cell_type": "markdown",
      "id": "e62395a5-6d5d-49e4-b5ca-ef6375fa93e8",
      "metadata": {
        "id": "e62395a5-6d5d-49e4-b5ca-ef6375fa93e8"
      },
      "source": [
        "## 3-Vazifa\n",
        "\n",
        "Hisoblangan va asl qiymtlar o'rtasidagi RMSE (root mean square error), MAE (mean absolute error) hisoblang.\n",
        "\n",
        "![Imgur](https://i.imgur.com/GJH9CGy.png)\n",
        "\n",
        "![Imgur](https://i.imgur.com/aXL9iWa.png)"
      ]
    },
    {
      "cell_type": "code",
      "source": [
        "sum1 = []\n",
        "for t in [0,1,2,3,4]:\n",
        "  val = abs(guess[t]-real[t])\n",
        "  sum1.append(val)\n",
        "\n",
        "MAE = 1/5*(sum(sum1))\n",
        "\n",
        "RMSE = (1/5*(sum(sum1)**2))**(1/2)\n",
        "\n",
        "print(MAE)\n",
        "print(RMSE)"
      ],
      "metadata": {
        "id": "Gs-g9h3yHZPA",
        "outputId": "5d0c6732-d68c-4f21-8bd9-2ff61cb0bbc2",
        "colab": {
          "base_uri": "https://localhost:8080/"
        }
      },
      "id": "Gs-g9h3yHZPA",
      "execution_count": 13,
      "outputs": [
        {
          "output_type": "stream",
          "name": "stdout",
          "text": [
            "6440.440008176397\n",
            "14401.261663291725\n"
          ]
        }
      ]
    }
  ],
  "metadata": {
    "kernelspec": {
      "display_name": "Python 3",
      "language": "python",
      "name": "python3"
    },
    "language_info": {
      "codemirror_mode": {
        "name": "ipython",
        "version": 3
      },
      "file_extension": ".py",
      "mimetype": "text/x-python",
      "name": "python",
      "nbconvert_exporter": "python",
      "pygments_lexer": "ipython3",
      "version": "3.8.8"
    },
    "colab": {
      "provenance": [],
      "include_colab_link": true
    }
  },
  "nbformat": 4,
  "nbformat_minor": 5
}